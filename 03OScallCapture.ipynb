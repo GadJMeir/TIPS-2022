{
 "cells": [
  {
   "cell_type": "markdown",
   "id": "18512e19",
   "metadata": {},
   "source": [
    "<h2>A magic trick I found useful</h2>"
   ]
  },
  {
   "cell_type": "markdown",
   "id": "606918da",
   "metadata": {},
   "source": [
    "<h3> ! is used to execute CMD/Shell commands</h3>"
   ]
  },
  {
   "cell_type": "code",
   "execution_count": null,
   "id": "0cf1ea55",
   "metadata": {},
   "outputs": [],
   "source": [
    "!aws s3 ls"
   ]
  },
  {
   "cell_type": "markdown",
   "id": "827b0a79",
   "metadata": {},
   "source": [
    "<h3>If you want to capture the outputs of the command into a variable, use: %%capture.<br/>\n",
    "The name after the %%capture is a name of an object catching the outputs.</h3>"
   ]
  },
  {
   "cell_type": "code",
   "execution_count": null,
   "id": "d8985d07",
   "metadata": {},
   "outputs": [],
   "source": [
    "%%capture myoutput\n",
    "!aws s3 ls"
   ]
  },
  {
   "cell_type": "markdown",
   "id": "be7d31a4",
   "metadata": {},
   "source": [
    "<h3>The captured data is in the 'capture-object-name'.stdout and 'capture-object-name'.stderr.</h3>"
   ]
  },
  {
   "cell_type": "code",
   "execution_count": null,
   "id": "de81e7bb",
   "metadata": {
    "scrolled": true
   },
   "outputs": [],
   "source": [
    "print(type(myoutput.stdout))\n",
    "print(myoutput.stdout)"
   ]
  },
  {
   "cell_type": "code",
   "execution_count": null,
   "id": "908b9be5",
   "metadata": {},
   "outputs": [],
   "source": [
    "print(type(myoutput))\n",
    "print(dir(myoutput))\n"
   ]
  },
  {
   "cell_type": "code",
   "execution_count": null,
   "id": "cb34cc27",
   "metadata": {},
   "outputs": [],
   "source": []
  }
 ],
 "metadata": {
  "kernelspec": {
   "display_name": "Python 3",
   "language": "python",
   "name": "python3"
  },
  "language_info": {
   "codemirror_mode": {
    "name": "ipython",
    "version": 3
   },
   "file_extension": ".py",
   "mimetype": "text/x-python",
   "name": "python",
   "nbconvert_exporter": "python",
   "pygments_lexer": "ipython3",
   "version": "3.9.6"
  }
 },
 "nbformat": 4,
 "nbformat_minor": 5
}
