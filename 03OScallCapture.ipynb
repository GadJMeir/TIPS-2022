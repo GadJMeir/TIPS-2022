{
 "cells": [
  {
   "cell_type": "markdown",
   "id": "18512e19",
   "metadata": {},
   "source": [
    "<h2>A magic trick I found useful</h2>"
   ]
  },
  {
   "cell_type": "markdown",
   "id": "606918da",
   "metadata": {},
   "source": [
    "<h3> ! is used to execute CMD/Shell commands</h3>"
   ]
  },
  {
   "cell_type": "code",
   "execution_count": 1,
   "id": "0cf1ea55",
   "metadata": {},
   "outputs": [
    {
     "name": "stdout",
     "output_type": "stream",
     "text": [
      "2022-03-26 14:37:23 aws-cloudtrail-logs-052187430644-20220326\n",
      "2022-03-21 17:32:11 aws-codestar-us-east-1-052187430644\n",
      "2022-03-21 17:32:25 aws-codestar-us-east-1-052187430644-gdtodelete-app\n",
      "2022-03-21 17:32:25 aws-codestar-us-east-1-052187430644-gdtodelete-pipe\n",
      "2021-10-16 13:38:40 aws-sam-cli-managed-default-samclisourcebucket-17xjjmpy503t7\n",
      "2022-01-05 09:25:45 cf-templates-iv2e0susycjb-us-east-1\n",
      "2022-03-17 20:08:09 cf-templates-iv2e0susycjb-us-east-2\n",
      "2022-03-26 14:17:04 config-bucket-for-aws-config-20220326\n",
      "2022-03-21 14:35:33 elasticbeanstalk-us-east-1-052187430644\n",
      "2022-03-17 19:30:51 elasticbeanstalk-us-west-2-052187430644\n",
      "2021-10-16 14:25:58 error-processor-bucket-4tbf5ftnncpg\n",
      "2022-03-15 18:36:52 gd-demo-slotmachine-o\n",
      "2022-02-25 14:14:12 gd-doav4-demo\n",
      "2022-03-27 19:19:10 gd-flow-logs-collector-20220327\n",
      "2021-06-23 11:17:04 mybucket12345688888\n",
      "2021-10-18 13:00:30 node-sdk-sample-f722a781-d19a-46fd-906c-64a33c17b9a8\n"
     ]
    }
   ],
   "source": [
    "!aws s3 ls"
   ]
  },
  {
   "cell_type": "markdown",
   "id": "827b0a79",
   "metadata": {},
   "source": [
    "<h3>If you want to capture the outputs of the command into a variable, use: %%capture.<br/>\n",
    "The name after the %%capture is a name of an object catching the outputs.</h3>"
   ]
  },
  {
   "cell_type": "code",
   "execution_count": 2,
   "id": "d8985d07",
   "metadata": {},
   "outputs": [],
   "source": [
    "%%capture myoutput\n",
    "!aws s3 ls"
   ]
  },
  {
   "cell_type": "markdown",
   "id": "be7d31a4",
   "metadata": {},
   "source": [
    "<h3>The captured data is in the 'capture-object-name'.stdout and 'capture-object-name'.stderr.</h3>"
   ]
  },
  {
   "cell_type": "code",
   "execution_count": 4,
   "id": "de81e7bb",
   "metadata": {
    "scrolled": true
   },
   "outputs": [
    {
     "name": "stdout",
     "output_type": "stream",
     "text": [
      "<class 'str'>\n",
      "2022-03-26 14:37:23 aws-cloudtrail-logs-052187430644-20220326\n",
      "2022-03-21 17:32:11 aws-codestar-us-east-1-052187430644\n",
      "2022-03-21 17:32:25 aws-codestar-us-east-1-052187430644-gdtodelete-app\n",
      "2022-03-21 17:32:25 aws-codestar-us-east-1-052187430644-gdtodelete-pipe\n",
      "2021-10-16 13:38:40 aws-sam-cli-managed-default-samclisourcebucket-17xjjmpy503t7\n",
      "2022-01-05 09:25:45 cf-templates-iv2e0susycjb-us-east-1\n",
      "2022-03-17 20:08:09 cf-templates-iv2e0susycjb-us-east-2\n",
      "2022-03-26 14:17:04 config-bucket-for-aws-config-20220326\n",
      "2022-03-21 14:35:33 elasticbeanstalk-us-east-1-052187430644\n",
      "2022-03-17 19:30:51 elasticbeanstalk-us-west-2-052187430644\n",
      "2021-10-16 14:25:58 error-processor-bucket-4tbf5ftnncpg\n",
      "2022-03-15 18:36:52 gd-demo-slotmachine-o\n",
      "2022-02-25 14:14:12 gd-doav4-demo\n",
      "2022-03-27 19:19:10 gd-flow-logs-collector-20220327\n",
      "2021-06-23 11:17:04 mybucket12345688888\n",
      "2021-10-18 13:00:30 node-sdk-sample-f722a781-d19a-46fd-906c-64a33c17b9a8\n",
      "\n"
     ]
    }
   ],
   "source": [
    "print(type(myoutput.stdout))\n",
    "print(myoutput.stdout)"
   ]
  },
  {
   "cell_type": "code",
   "execution_count": 5,
   "id": "908b9be5",
   "metadata": {},
   "outputs": [
    {
     "name": "stdout",
     "output_type": "stream",
     "text": [
      "<class 'IPython.utils.capture.CapturedIO'>\n",
      "['__call__', '__class__', '__delattr__', '__dict__', '__dir__', '__doc__', '__eq__', '__format__', '__ge__', '__getattribute__', '__gt__', '__hash__', '__init__', '__init_subclass__', '__le__', '__lt__', '__module__', '__ne__', '__new__', '__reduce__', '__reduce_ex__', '__repr__', '__setattr__', '__sizeof__', '__str__', '__subclasshook__', '__weakref__', '_outputs', '_stderr', '_stdout', 'outputs', 'show', 'stderr', 'stdout']\n"
     ]
    }
   ],
   "source": [
    "print(type(myoutput))\n",
    "print(dir(myoutput))\n"
   ]
  },
  {
   "cell_type": "code",
   "execution_count": null,
   "id": "cb34cc27",
   "metadata": {},
   "outputs": [],
   "source": []
  }
 ],
 "metadata": {
  "kernelspec": {
   "display_name": "Python 3",
   "language": "python",
   "name": "python3"
  },
  "language_info": {
   "codemirror_mode": {
    "name": "ipython",
    "version": 3
   },
   "file_extension": ".py",
   "mimetype": "text/x-python",
   "name": "python",
   "nbconvert_exporter": "python",
   "pygments_lexer": "ipython3",
   "version": "3.9.6"
  }
 },
 "nbformat": 4,
 "nbformat_minor": 5
}
