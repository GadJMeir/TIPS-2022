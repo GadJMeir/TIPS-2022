{
 "cells": [
  {
   "cell_type": "markdown",
   "id": "8baec8bd",
   "metadata": {},
   "source": [
    "<h2>Whatever you enter in the \" IN\" cell is evaluated when you click \"Run\" and the result is printed at the \"Out\" cell.</h2> "
   ]
  },
  {
   "cell_type": "code",
   "execution_count": null,
   "id": "9e5ef2fe",
   "metadata": {},
   "outputs": [],
   "source": [
    "\"Hello, World!\""
   ]
  },
  {
   "cell_type": "markdown",
   "id": "64866b96",
   "metadata": {},
   "source": [
    "<h2>\"!\" is used to send commands to the underlying OS</h2>"
   ]
  },
  {
   "cell_type": "code",
   "execution_count": 1,
   "id": "581c90cb",
   "metadata": {},
   "outputs": [
    {
     "name": "stdout",
     "output_type": "stream",
     "text": [
      "2022-03-26 14:37:23 aws-cloudtrail-logs-052187430644-20220326\n",
      "2022-03-21 17:32:11 aws-codestar-us-east-1-052187430644\n",
      "2022-03-21 17:32:25 aws-codestar-us-east-1-052187430644-gdtodelete-app\n",
      "2022-03-21 17:32:25 aws-codestar-us-east-1-052187430644-gdtodelete-pipe\n",
      "2021-10-16 13:38:40 aws-sam-cli-managed-default-samclisourcebucket-17xjjmpy503t7\n",
      "2022-01-05 09:25:45 cf-templates-iv2e0susycjb-us-east-1\n",
      "2022-03-17 20:08:09 cf-templates-iv2e0susycjb-us-east-2\n",
      "2022-03-26 14:17:04 config-bucket-for-aws-config-20220326\n",
      "2022-03-21 14:35:33 elasticbeanstalk-us-east-1-052187430644\n",
      "2022-03-17 19:30:51 elasticbeanstalk-us-west-2-052187430644\n",
      "2021-10-16 14:25:58 error-processor-bucket-4tbf5ftnncpg\n",
      "2022-03-15 18:36:52 gd-demo-slotmachine-o\n",
      "2022-02-25 14:14:12 gd-doav4-demo\n",
      "2022-03-27 19:19:10 gd-flow-logs-collector-20220327\n",
      "2021-06-23 11:17:04 mybucket12345688888\n",
      "2021-10-18 13:00:30 node-sdk-sample-f722a781-d19a-46fd-906c-64a33c17b9a8\n"
     ]
    }
   ],
   "source": [
    "!aws s3 ls"
   ]
  },
  {
   "cell_type": "markdown",
   "id": "03d003fc",
   "metadata": {},
   "source": [
    "<h2>Explain what you do using markup language and/or HTML</h2>"
   ]
  },
  {
   "cell_type": "markdown",
   "id": "f1a17d7d",
   "metadata": {},
   "source": [
    "Hi Tips 2022\n",
    "# this is a heading\n",
    "this **word** is bold\n",
    "<br/><p> this is HTML </p><br/><u>and this is HTML Too</u><br/>\n",
    "<h2>You don't have to be an expert in ML or HTML.</h2><h2>In this talk, I am using  just:&lt;h2>&lt;/h2></h2>"
   ]
  },
  {
   "cell_type": "markdown",
   "id": "9c863404",
   "metadata": {},
   "source": [
    "<h2>It is as simple as I just demoed.</h2>\n",
    "<h2>Document the demo or thinking process while doing it, and at the end, clean it, save it, distribute it, and anyone can repeat the steps and explore the results.</h2>"
   ]
  },
  {
   "cell_type": "markdown",
   "id": "650b8d80",
   "metadata": {},
   "source": [
    "<h2>Let's browse the UI:</h2>\n",
    "file->Save, file->Download as, Cell-> Cell Type, Cell-> Run Cell, Cell-> All Output->Clear"
   ]
  },
  {
   "cell_type": "markdown",
   "id": "d1920c44",
   "metadata": {},
   "source": [
    "<h2>The interpreter's default language is Python.</h2><h2>You don't have to be an expert in Python to use Jupyter for demos.</h2><h2>you can use Python as a simple calculator:</h2>     "
   ]
  },
  {
   "cell_type": "code",
   "execution_count": null,
   "id": "c90cd716",
   "metadata": {},
   "outputs": [],
   "source": [
    "3+7/7.7"
   ]
  },
  {
   "cell_type": "code",
   "execution_count": null,
   "id": "fb9f21b0",
   "metadata": {},
   "outputs": [],
   "source": []
  }
 ],
 "metadata": {
  "kernelspec": {
   "display_name": "Python 3",
   "language": "python",
   "name": "python3"
  },
  "language_info": {
   "codemirror_mode": {
    "name": "ipython",
    "version": 3
   },
   "file_extension": ".py",
   "mimetype": "text/x-python",
   "name": "python",
   "nbconvert_exporter": "python",
   "pygments_lexer": "ipython3",
   "version": "3.9.6"
  }
 },
 "nbformat": 4,
 "nbformat_minor": 5
}
