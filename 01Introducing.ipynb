{
 "cells": [
  {
   "cell_type": "markdown",
   "id": "8baec8bd",
   "metadata": {},
   "source": [
    "<h2>Whatever you enter in the \" IN\" cell is evaluated when you click \"Run\" and the result is printed at the \"Out\" cell.</h2> "
   ]
  },
  {
   "cell_type": "code",
   "execution_count": null,
   "id": "9e5ef2fe",
   "metadata": {},
   "outputs": [],
   "source": [
    "\"Hello, World!\""
   ]
  },
  {
   "cell_type": "markdown",
   "id": "64866b96",
   "metadata": {},
   "source": [
    "<h2>\"!\" is used to send commands to the underlying OS</h2>"
   ]
  },
  {
   "cell_type": "code",
   "execution_count": null,
   "id": "581c90cb",
   "metadata": {},
   "outputs": [],
   "source": [
    "!aws s3 ls"
   ]
  },
  {
   "cell_type": "markdown",
   "id": "03d003fc",
   "metadata": {},
   "source": [
    "<h2>Explain what you do using markup language and/or HTML</h2>"
   ]
  },
  {
   "cell_type": "raw",
   "id": "eb7278e1",
   "metadata": {},
   "source": [
    "Hi Tips 2022\n",
    "# this is a heading\n",
    "this **word** is bold\n",
    "<br/><p> this is HTML </p><br/><u>and this is HTML Too</u><br/>\n",
    "<h2>You don't have to be an expert in ML or HTML.</h2><h2>In this talk, I am using  just:&lt;h2>&lt;/h2></h2>"
   ]
  },
  {
   "cell_type": "markdown",
   "id": "0789dcb0",
   "metadata": {},
   "source": [
    "Hi Tips 2022\n",
    "# this is a heading\n",
    "this **word** is bold\n",
    "<br/><p> this is HTML </p><br/><u>and this is HTML Too</u><br/>\n",
    "<h2>You don't have to be an expert in ML or HTML.</h2><h2>In this talk, I am using  just:&lt;h2>&lt;/h2></h2>"
   ]
  },
  {
   "cell_type": "markdown",
   "id": "9c863404",
   "metadata": {},
   "source": [
    "<h2>It is as simple as I just demoed.</h2>\n",
    "<h2>Document the demo or thinking process while doing it, and at the end, clean it, save it, distribute it, and anyone can repeat the steps and explore the results.</h2>"
   ]
  },
  {
   "cell_type": "markdown",
   "id": "650b8d80",
   "metadata": {},
   "source": [
    "<h2>Let's browse the UI:</h2>\n",
    "file->Save, file->Download as, Cell-> Cell Type, Cell-> Run Cell, Cell-> All Output->Clear"
   ]
  },
  {
   "cell_type": "markdown",
   "id": "d1920c44",
   "metadata": {},
   "source": [
    "<h2>The interpreter's default language is Python.</h2><h2>You don't have to be an expert in Python to use Jupyter for demos.</h2><h2>you can use Python as a simple calculator:</h2>     "
   ]
  },
  {
   "cell_type": "code",
   "execution_count": null,
   "id": "c90cd716",
   "metadata": {},
   "outputs": [],
   "source": [
    "3+7/7.7"
   ]
  },
  {
   "cell_type": "code",
   "execution_count": null,
   "id": "fb9f21b0",
   "metadata": {},
   "outputs": [],
   "source": []
  }
 ],
 "metadata": {
  "kernelspec": {
   "display_name": "Python 3",
   "language": "python",
   "name": "python3"
  },
  "language_info": {
   "codemirror_mode": {
    "name": "ipython",
    "version": 3
   },
   "file_extension": ".py",
   "mimetype": "text/x-python",
   "name": "python",
   "nbconvert_exporter": "python",
   "pygments_lexer": "ipython3",
   "version": "3.9.6"
  }
 },
 "nbformat": 4,
 "nbformat_minor": 5
}
