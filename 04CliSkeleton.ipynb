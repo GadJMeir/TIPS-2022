{
 "cells": [
  {
   "cell_type": "markdown",
   "id": "f34473eb",
   "metadata": {},
   "source": [
    "<h2>***** Before running the list-objects-v2 demo change the bucket name (also in 04cliinput.txt) to your own bucket name *****</h2>\n",
    "<h2>The CLI can generate Most \"Low level\" AWS APIs input and output parameters as JSON structures.</h2>\n",
    "<h2>The input skeleton can be used as a replacement for typing all the parameters in the command line.</h2>\n",
    "<h2>The output skeleton can help us interpret and extract items from the API response.</h2>"
   ]
  },
  {
   "cell_type": "markdown",
   "id": "b1797315",
   "metadata": {},
   "source": [
    "<h2>Let's start with a simple s3api call to list-buckets.</h2> "
   ]
  },
  {
   "cell_type": "code",
   "execution_count": null,
   "id": "617a9db9",
   "metadata": {},
   "outputs": [],
   "source": [
    "! aws s3api list-buckets"
   ]
  },
  {
   "cell_type": "markdown",
   "id": "39e838d2",
   "metadata": {},
   "source": [
    "<h2>The input parameters skeleton is:</h2>"
   ]
  },
  {
   "cell_type": "code",
   "execution_count": null,
   "id": "ada79ec0",
   "metadata": {
    "scrolled": true
   },
   "outputs": [],
   "source": [
    "! aws s3api list-buckets --generate-cli-skeleton"
   ]
  },
  {
   "cell_type": "markdown",
   "id": "c4143d42",
   "metadata": {},
   "source": [
    "<h2>The output parameters skeleton is:</h2>"
   ]
  },
  {
   "cell_type": "code",
   "execution_count": null,
   "id": "86596b17",
   "metadata": {},
   "outputs": [],
   "source": [
    "! aws s3api list-buckets --generate-cli-skeleton output"
   ]
  },
  {
   "cell_type": "markdown",
   "id": "f63c3281",
   "metadata": {},
   "source": [
    "<h2>The CLI includes a JQ query language support that can be used to filter the JSON results:</h2>"
   ]
  },
  {
   "cell_type": "code",
   "execution_count": null,
   "id": "b8353c3c",
   "metadata": {},
   "outputs": [],
   "source": [
    "! aws s3api list-buckets --query Buckets"
   ]
  },
  {
   "cell_type": "code",
   "execution_count": null,
   "id": "c2916703",
   "metadata": {},
   "outputs": [],
   "source": [
    "! aws s3api list-buckets --query Buckets[*].Name"
   ]
  },
  {
   "cell_type": "markdown",
   "id": "29a34d4d",
   "metadata": {},
   "source": [
    "<h2>Let's investigate a command that requires input parameters:</h2>"
   ]
  },
  {
   "cell_type": "code",
   "execution_count": null,
   "id": "3da2afb3",
   "metadata": {
    "scrolled": true
   },
   "outputs": [],
   "source": [
    "! aws s3api list-objects-v2 --bucket mybucket12345688888"
   ]
  },
  {
   "cell_type": "markdown",
   "id": "01714550",
   "metadata": {},
   "source": [
    "<h2>The input parameters skeleton is:</h2>"
   ]
  },
  {
   "cell_type": "code",
   "execution_count": null,
   "id": "e5324786",
   "metadata": {},
   "outputs": [],
   "source": [
    "! aws s3api list-objects-v2  --generate-cli-skeleton"
   ]
  },
  {
   "cell_type": "markdown",
   "id": "8a317c47",
   "metadata": {},
   "source": [
    "<h2>We can use this skeleton to create an input parameter file and use it to execute the command:</h2>"
   ]
  },
  {
   "cell_type": "code",
   "execution_count": null,
   "id": "d44c8aab",
   "metadata": {},
   "outputs": [],
   "source": [
    "!.\\04cliinput.txt"
   ]
  },
  {
   "cell_type": "markdown",
   "id": "f15052f9",
   "metadata": {},
   "source": [
    "<h2>Close the editor befort you continue</h2>"
   ]
  },
  {
   "cell_type": "code",
   "execution_count": null,
   "id": "d67d1ff2",
   "metadata": {},
   "outputs": [],
   "source": [
    "! aws s3api list-objects-v2 --cli-input-json file://./04cliinput.txt"
   ]
  },
  {
   "cell_type": "markdown",
   "id": "aa90d89f",
   "metadata": {},
   "source": [
    "<h2>The output parameters skeleton is:</h2>"
   ]
  },
  {
   "cell_type": "code",
   "execution_count": null,
   "id": "c1526eba",
   "metadata": {},
   "outputs": [],
   "source": [
    "! aws s3api list-objects-v2 --generate-cli-skeleton output "
   ]
  },
  {
   "cell_type": "markdown",
   "id": "27d6e1b4",
   "metadata": {},
   "source": [
    "<h2>an unexpected bug (:-)) but we can deduce the format from the output."
   ]
  },
  {
   "cell_type": "markdown",
   "id": "f5bc428c",
   "metadata": {},
   "source": [
    "<h2>We can use the information about the structure of the response to create a concise output:</h2>"
   ]
  },
  {
   "cell_type": "code",
   "execution_count": null,
   "id": "8451b1bf",
   "metadata": {},
   "outputs": [],
   "source": [
    "! aws s3api list-objects-v2 --cli-input-json file://./04cliinput.txt --query Contents[*].Key"
   ]
  },
  {
   "cell_type": "code",
   "execution_count": null,
   "id": "a9c59a4f",
   "metadata": {},
   "outputs": [],
   "source": []
  }
 ],
 "metadata": {
  "kernelspec": {
   "display_name": "Python 3",
   "language": "python",
   "name": "python3"
  },
  "language_info": {
   "codemirror_mode": {
    "name": "ipython",
    "version": 3
   },
   "file_extension": ".py",
   "mimetype": "text/x-python",
   "name": "python",
   "nbconvert_exporter": "python",
   "pygments_lexer": "ipython3",
   "version": "3.9.6"
  }
 },
 "nbformat": 4,
 "nbformat_minor": 5
}
