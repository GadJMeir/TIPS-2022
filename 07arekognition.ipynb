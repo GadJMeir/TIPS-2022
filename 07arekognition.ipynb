{
 "cells": [
  {
   "cell_type": "markdown",
   "id": "a2587e16",
   "metadata": {},
   "source": [
    "<h2>Let's see how the same technique is used in a completely different API:</h2>"
   ]
  },
  {
   "cell_type": "code",
   "execution_count": 1,
   "id": "d4a24a3d",
   "metadata": {},
   "outputs": [
    {
     "name": "stderr",
     "output_type": "stream",
     "text": [
      "The system cannot find the path specified.\n"
     ]
    }
   ],
   "source": [
    "! images\\friends-look-on-laptop_1_.jpg"
   ]
  },
  {
   "cell_type": "markdown",
   "id": "a5a3a8a9",
   "metadata": {},
   "source": [
    "<h2>What's in the image?</h2>"
   ]
  },
  {
   "cell_type": "code",
   "execution_count": 2,
   "id": "a69d8257",
   "metadata": {
    "scrolled": true
   },
   "outputs": [
    {
     "name": "stdout",
     "output_type": "stream",
     "text": [
      "{\n",
      "    \"Image\": {\n",
      "        \"Bytes\": null,\n",
      "        \"S3Object\": {\n",
      "            \"Bucket\": \"\",\n",
      "            \"Name\": \"\",\n",
      "            \"Version\": \"\"\n",
      "        }\n",
      "    },\n",
      "    \"MaxLabels\": 0,\n",
      "    \"MinConfidence\": 0.0\n",
      "}\n"
     ]
    }
   ],
   "source": [
    "!aws rekognition detect-labels --generate-cli-skeleton input"
   ]
  },
  {
   "cell_type": "markdown",
   "id": "2072dd7c",
   "metadata": {},
   "source": [
    "<h2>Now we know the input parameters.</h2>"
   ]
  },
  {
   "cell_type": "code",
   "execution_count": 3,
   "id": "c8607854",
   "metadata": {},
   "outputs": [
    {
     "name": "stderr",
     "output_type": "stream",
     "text": [
      "\n",
      "Parameter validation failed:\n",
      "Missing required parameter in input: \"Image\"\n"
     ]
    }
   ],
   "source": [
    "!aws rekognition detect-labels --generate-cli-skeleton output"
   ]
  },
  {
   "cell_type": "markdown",
   "id": "ee7a0584",
   "metadata": {},
   "source": [
    "<h2>Another bug with the CLI. Never mind, let's deduce it from the documentation.</h2>"
   ]
  },
  {
   "cell_type": "markdown",
   "id": "f70b9049",
   "metadata": {},
   "source": [
    "<h2>CLI first</h2>"
   ]
  },
  {
   "cell_type": "code",
   "execution_count": 4,
   "id": "17b0027c",
   "metadata": {},
   "outputs": [
    {
     "name": "stdout",
     "output_type": "stream",
     "text": [
      "{\n",
      "    \"Labels\": [\n",
      "        {\n",
      "            \"Name\": \"Person\",\n",
      "            \"Confidence\": 99.76709747314453,\n",
      "            \"Instances\": [\n",
      "                {\n",
      "                    \"BoundingBox\": {\n",
      "                        \"Width\": 0.2734711468219757,\n",
      "                        \"Height\": 0.5207012295722961,\n",
      "                        \"Left\": 0.456800639629364,\n",
      "                        \"Top\": 0.4569742679595947\n",
      "                    },\n",
      "                    \"Confidence\": 99.76709747314453\n",
      "                },\n",
      "                {\n",
      "                    \"BoundingBox\": {\n",
      "                        \"Width\": 0.2994231581687927,\n",
      "                        \"Height\": 0.7624989748001099,\n",
      "                        \"Left\": 0.6709035634994507,\n",
      "                        \"Top\": 0.2314125895500183\n",
      "                    },\n",
      "                    \"Confidence\": 99.67754364013672\n",
      "                },\n",
      "                {\n",
      "                    \"BoundingBox\": {\n",
      "                        \"Width\": 0.22364172339439392,\n",
      "                        \"Height\": 0.5285090804100037,\n",
      "                        \"Left\": 0.40152186155319214,\n",
      "                        \"Top\": 0.2662636637687683\n",
      "                    },\n",
      "                    \"Confidence\": 99.66345977783203\n",
      "                }\n",
      "            ],\n",
      "            \"Parents\": []\n",
      "        },\n",
      "        {\n",
      "            \"Name\": \"Human\",\n",
      "            \"Confidence\": 99.76709747314453,\n",
      "            \"Instances\": [],\n",
      "            \"Parents\": []\n",
      "        },\n",
      "        {\n",
      "            \"Name\": \"Furniture\",\n",
      "            \"Confidence\": 96.04329681396484,\n",
      "            \"Instances\": [],\n",
      "            \"Parents\": []\n",
      "        },\n",
      "        {\n",
      "            \"Name\": \"Laptop\",\n",
      "            \"Confidence\": 94.87918090820312,\n",
      "            \"Instances\": [\n",
      "                {\n",
      "                    \"BoundingBox\": {\n",
      "                        \"Width\": 0.23666039109230042,\n",
      "                        \"Height\": 0.26856449246406555,\n",
      "                        \"Left\": 0.343546599149704,\n",
      "                        \"Top\": 0.628888726234436\n",
      "                    },\n",
      "                    \"Confidence\": 94.87918090820312\n",
      "                }\n",
      "            ],\n",
      "            \"Parents\": [\n",
      "                {\n",
      "                    \"Name\": \"Pc\"\n",
      "                },\n",
      "                {\n",
      "                    \"Name\": \"Computer\"\n",
      "                },\n",
      "                {\n",
      "                    \"Name\": \"Electronics\"\n",
      "                }\n",
      "            ]\n",
      "        },\n",
      "        {\n",
      "            \"Name\": \"Electronics\",\n",
      "            \"Confidence\": 94.87918090820312,\n",
      "            \"Instances\": [],\n",
      "            \"Parents\": []\n",
      "        },\n",
      "        {\n",
      "            \"Name\": \"Pc\",\n",
      "            \"Confidence\": 94.87918090820312,\n",
      "            \"Instances\": [],\n",
      "            \"Parents\": [\n",
      "                {\n",
      "                    \"Name\": \"Computer\"\n",
      "                },\n",
      "                {\n",
      "                    \"Name\": \"Electronics\"\n",
      "                }\n",
      "            ]\n",
      "        },\n",
      "        {\n",
      "            \"Name\": \"Computer\",\n",
      "            \"Confidence\": 94.87918090820312,\n",
      "            \"Instances\": [],\n",
      "            \"Parents\": [\n",
      "                {\n",
      "                    \"Name\": \"Electronics\"\n",
      "                }\n",
      "            ]\n",
      "        },\n",
      "        {\n",
      "            \"Name\": \"Sitting\",\n",
      "            \"Confidence\": 93.2017593383789,\n",
      "            \"Instances\": [],\n",
      "            \"Parents\": [\n",
      "                {\n",
      "                    \"Name\": \"Person\"\n",
      "                }\n",
      "            ]\n",
      "        },\n",
      "        {\n",
      "            \"Name\": \"Table\",\n",
      "            \"Confidence\": 91.74459075927734,\n",
      "            \"Instances\": [],\n",
      "            \"Parents\": [\n",
      "                {\n",
      "                    \"Name\": \"Furniture\"\n",
      "                }\n",
      "            ]\n",
      "        },\n",
      "        {\n",
      "            \"Name\": \"Desk\",\n",
      "            \"Confidence\": 74.80546569824219,\n",
      "            \"Instances\": [],\n",
      "            \"Parents\": [\n",
      "                {\n",
      "                    \"Name\": \"Table\"\n",
      "                },\n",
      "                {\n",
      "                    \"Name\": \"Furniture\"\n",
      "                }\n",
      "            ]\n",
      "        },\n",
      "        {\n",
      "            \"Name\": \"Tabletop\",\n",
      "            \"Confidence\": 69.00260925292969,\n",
      "            \"Instances\": [],\n",
      "            \"Parents\": [\n",
      "                {\n",
      "                    \"Name\": \"Furniture\"\n",
      "                }\n",
      "            ]\n",
      "        },\n",
      "        {\n",
      "            \"Name\": \"Indoors\",\n",
      "            \"Confidence\": 66.46775817871094,\n",
      "            \"Instances\": [],\n",
      "            \"Parents\": []\n",
      "        },\n",
      "        {\n",
      "            \"Name\": \"People\",\n",
      "            \"Confidence\": 61.297019958496094,\n",
      "            \"Instances\": [],\n",
      "            \"Parents\": [\n",
      "                {\n",
      "                    \"Name\": \"Person\"\n",
      "                }\n",
      "            ]\n",
      "        },\n",
      "        {\n",
      "            \"Name\": \"Chair\",\n",
      "            \"Confidence\": 57.385780334472656,\n",
      "            \"Instances\": [\n",
      "                {\n",
      "                    \"BoundingBox\": {\n",
      "                        \"Width\": 0.13790160417556763,\n",
      "                        \"Height\": 0.2573131322860718,\n",
      "                        \"Left\": 0.0019998252391815186,\n",
      "                        \"Top\": 0.7410660982131958\n",
      "                    },\n",
      "                    \"Confidence\": 57.385780334472656\n",
      "                }\n",
      "            ],\n",
      "            \"Parents\": [\n",
      "                {\n",
      "                    \"Name\": \"Furniture\"\n",
      "                }\n",
      "            ]\n",
      "        }\n",
      "    ],\n",
      "    \"LabelModelVersion\": \"2.0\"\n",
      "}\n"
     ]
    }
   ],
   "source": [
    "!aws rekognition detect-labels --image \"S3Object={Bucket=mybucket12345688888,Name=Pictures/friends-look-on-laptop_1_.jpg}\""
   ]
  },
  {
   "cell_type": "markdown",
   "id": "bb066c08",
   "metadata": {},
   "source": [
    "<h2>The same using Python</h2>"
   ]
  },
  {
   "cell_type": "code",
   "execution_count": 5,
   "id": "4057e42b",
   "metadata": {},
   "outputs": [],
   "source": [
    "import boto3\n",
    "\n",
    "client = boto3.client('rekognition')"
   ]
  },
  {
   "cell_type": "code",
   "execution_count": 6,
   "id": "fed922f4",
   "metadata": {},
   "outputs": [],
   "source": [
    "response = client.detect_labels(\n",
    "    Image={\n",
    "        'S3Object': {\n",
    "            'Bucket': 'mybucket12345688888',\n",
    "            'Name': 'Pictures/friends-look-on-laptop_1_.jpg'\n",
    "        }\n",
    "    },\n",
    "    MaxLabels=10,\n",
    "    MinConfidence=0.5\n",
    ")"
   ]
  },
  {
   "cell_type": "markdown",
   "id": "0bfc119c",
   "metadata": {},
   "source": [
    "<h2>What's in the response</h2>"
   ]
  },
  {
   "cell_type": "code",
   "execution_count": 7,
   "id": "1f7db477",
   "metadata": {},
   "outputs": [
    {
     "name": "stdout",
     "output_type": "stream",
     "text": [
      "{'Labels': [{'Name': 'Person', 'Confidence': 99.76709747314453, 'Instances': [{'BoundingBox': {'Width': 0.2734711468219757, 'Height': 0.5207012295722961, 'Left': 0.456800639629364, 'Top': 0.4569742679595947}, 'Confidence': 99.76709747314453}, {'BoundingBox': {'Width': 0.2994231581687927, 'Height': 0.7624989748001099, 'Left': 0.6709035634994507, 'Top': 0.2314125895500183}, 'Confidence': 99.67754364013672}, {'BoundingBox': {'Width': 0.22364172339439392, 'Height': 0.5285090804100037, 'Left': 0.40152186155319214, 'Top': 0.2662636637687683}, 'Confidence': 99.66345977783203}], 'Parents': []}, {'Name': 'Furniture', 'Confidence': 96.04329681396484, 'Instances': [], 'Parents': []}, {'Name': 'Laptop', 'Confidence': 94.87918090820312, 'Instances': [{'BoundingBox': {'Width': 0.23666039109230042, 'Height': 0.26856449246406555, 'Left': 0.343546599149704, 'Top': 0.628888726234436}, 'Confidence': 94.87918090820312}], 'Parents': [{'Name': 'Electronics'}]}, {'Name': 'Electronics', 'Confidence': 94.87918090820312, 'Instances': [], 'Parents': []}, {'Name': 'Sitting', 'Confidence': 93.2017593383789, 'Instances': [], 'Parents': [{'Name': 'Person'}]}, {'Name': 'Table', 'Confidence': 91.74459075927734, 'Instances': [], 'Parents': [{'Name': 'Furniture'}]}, {'Name': 'Desk', 'Confidence': 74.80546569824219, 'Instances': [], 'Parents': [{'Name': 'Table'}, {'Name': 'Furniture'}]}, {'Name': 'Tabletop', 'Confidence': 69.00260925292969, 'Instances': [], 'Parents': [{'Name': 'Furniture'}]}, {'Name': 'Indoors', 'Confidence': 66.46775817871094, 'Instances': [], 'Parents': []}, {'Name': 'People', 'Confidence': 61.297019958496094, 'Instances': [], 'Parents': [{'Name': 'Person'}]}], 'LabelModelVersion': '2.0', 'ResponseMetadata': {'RequestId': '2dab0ca2-789f-4062-945a-2debf4963720', 'HTTPStatusCode': 200, 'HTTPHeaders': {'x-amzn-requestid': '2dab0ca2-789f-4062-945a-2debf4963720', 'content-type': 'application/x-amz-json-1.1', 'content-length': '1569', 'date': 'Thu, 07 Apr 2022 12:15:17 GMT'}, 'RetryAttempts': 0}}\n"
     ]
    }
   ],
   "source": [
    "print(response)"
   ]
  },
  {
   "cell_type": "code",
   "execution_count": 8,
   "id": "1166300d",
   "metadata": {},
   "outputs": [
    {
     "name": "stdout",
     "output_type": "stream",
     "text": [
      "Person   99.76709747314453 %\n",
      "Furniture   96.04329681396484 %\n",
      "Laptop   94.87918090820312 %\n",
      "Electronics   94.87918090820312 %\n",
      "Sitting   93.2017593383789 %\n",
      "Table   91.74459075927734 %\n",
      "Desk   74.80546569824219 %\n",
      "Tabletop   69.00260925292969 %\n",
      "Indoors   66.46775817871094 %\n",
      "People   61.297019958496094 %\n"
     ]
    }
   ],
   "source": [
    "for item in response['Labels']:\n",
    "        print(item['Name'], ' ', item['Confidence'],'%')"
   ]
  },
  {
   "cell_type": "markdown",
   "id": "bc8070ae",
   "metadata": {},
   "source": [
    "<h2>Persons is an array.</h2>"
   ]
  },
  {
   "cell_type": "code",
   "execution_count": 9,
   "id": "baa308f0",
   "metadata": {},
   "outputs": [
    {
     "name": "stdout",
     "output_type": "stream",
     "text": [
      "{'BoundingBox': {'Width': 0.2734711468219757, 'Height': 0.5207012295722961, 'Left': 0.456800639629364, 'Top': 0.4569742679595947}, 'Confidence': 99.76709747314453}\n",
      "{'BoundingBox': {'Width': 0.2994231581687927, 'Height': 0.7624989748001099, 'Left': 0.6709035634994507, 'Top': 0.2314125895500183}, 'Confidence': 99.67754364013672}\n",
      "{'BoundingBox': {'Width': 0.22364172339439392, 'Height': 0.5285090804100037, 'Left': 0.40152186155319214, 'Top': 0.2662636637687683}, 'Confidence': 99.66345977783203}\n"
     ]
    }
   ],
   "source": [
    "for inst in response['Labels'][0]['Instances']:\n",
    "    print(inst)"
   ]
  },
  {
   "cell_type": "markdown",
   "id": "fba6bd4f",
   "metadata": {},
   "source": [
    "<h2>Let's try another image.</h2>"
   ]
  },
  {
   "cell_type": "code",
   "execution_count": 10,
   "id": "82270084",
   "metadata": {},
   "outputs": [
    {
     "name": "stderr",
     "output_type": "stream",
     "text": [
      "The system cannot find the path specified.\n"
     ]
    }
   ],
   "source": [
    "! images\\money-in-hand.jpg"
   ]
  },
  {
   "cell_type": "markdown",
   "id": "36a6d8bd",
   "metadata": {},
   "source": [
    "<h2>CLI First</h2>"
   ]
  },
  {
   "cell_type": "code",
   "execution_count": 11,
   "id": "d88ca6d0",
   "metadata": {},
   "outputs": [
    {
     "name": "stdout",
     "output_type": "stream",
     "text": [
      "{\n",
      "    \"Labels\": [\n",
      "        {\n",
      "            \"Name\": \"Money\",\n",
      "            \"Confidence\": 98.20162200927734,\n",
      "            \"Instances\": [],\n",
      "            \"Parents\": []\n",
      "        },\n",
      "        {\n",
      "            \"Name\": \"Person\",\n",
      "            \"Confidence\": 96.54981994628906,\n",
      "            \"Instances\": [\n",
      "                {\n",
      "                    \"BoundingBox\": {\n",
      "                        \"Width\": 0.845474123954773,\n",
      "                        \"Height\": 0.9054340124130249,\n",
      "                        \"Left\": 0.08483675867319107,\n",
      "                        \"Top\": 0.020450733602046967\n",
      "                    },\n",
      "                    \"Confidence\": 96.54981994628906\n",
      "                }\n",
      "            ],\n",
      "            \"Parents\": []\n",
      "        },\n",
      "        {\n",
      "            \"Name\": \"Human\",\n",
      "            \"Confidence\": 96.54981994628906,\n",
      "            \"Instances\": [],\n",
      "            \"Parents\": []\n",
      "        },\n",
      "        {\n",
      "            \"Name\": \"Dollar\",\n",
      "            \"Confidence\": 94.99666595458984,\n",
      "            \"Instances\": [],\n",
      "            \"Parents\": [\n",
      "                {\n",
      "                    \"Name\": \"Money\"\n",
      "                }\n",
      "            ]\n",
      "        }\n",
      "    ],\n",
      "    \"LabelModelVersion\": \"2.0\"\n",
      "}\n"
     ]
    }
   ],
   "source": [
    "!aws rekognition detect-labels --image \"S3Object={Bucket=mybucket12345688888,Name=Pictures/money-in-hand.jpg}\""
   ]
  },
  {
   "cell_type": "markdown",
   "id": "1dc1e1b6",
   "metadata": {},
   "source": [
    "<h2>Python</h2>"
   ]
  },
  {
   "cell_type": "code",
   "execution_count": null,
   "id": "ea9b0e99",
   "metadata": {},
   "outputs": [],
   "source": [
    "response2 = client.detect_labels(\n",
    "    Image={\n",
    "        'S3Object': {\n",
    "            'Bucket': 'mybucket12345688888',\n",
    "            'Name': 'Pictures/money-in-hand.jpg'\n",
    "        }\n",
    "    },\n",
    "    MaxLabels=10,\n",
    "    MinConfidence=0.5\n",
    ")"
   ]
  },
  {
   "cell_type": "code",
   "execution_count": null,
   "id": "43bc9b8e",
   "metadata": {},
   "outputs": [],
   "source": [
    "print(response2)"
   ]
  },
  {
   "cell_type": "code",
   "execution_count": null,
   "id": "317853d1",
   "metadata": {},
   "outputs": [],
   "source": []
  }
 ],
 "metadata": {
  "kernelspec": {
   "display_name": "Python 3",
   "language": "python",
   "name": "python3"
  },
  "language_info": {
   "codemirror_mode": {
    "name": "ipython",
    "version": 3
   },
   "file_extension": ".py",
   "mimetype": "text/x-python",
   "name": "python",
   "nbconvert_exporter": "python",
   "pygments_lexer": "ipython3",
   "version": "3.9.6"
  }
 },
 "nbformat": 4,
 "nbformat_minor": 5
}
