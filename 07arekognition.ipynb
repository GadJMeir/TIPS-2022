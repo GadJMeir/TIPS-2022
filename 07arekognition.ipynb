{
 "cells": [
  {
   "cell_type": "markdown",
   "id": "a05852d7",
   "metadata": {},
   "source": [
    "<h2>***** Before running this demo upload the picthres to your oqn s3 bucket and update the --image parameter to recognition accordingly *****</h2> "
   ]
  },
  {
   "cell_type": "markdown",
   "id": "a2587e16",
   "metadata": {},
   "source": [
    "<h2>Let's see how the same technique is used in a completely different API:</h2>"
   ]
  },
  {
   "cell_type": "code",
   "execution_count": null,
   "id": "d4a24a3d",
   "metadata": {},
   "outputs": [],
   "source": [
    "! images\\friends-look-on-laptop_1_.jpg"
   ]
  },
  {
   "cell_type": "markdown",
   "id": "a5a3a8a9",
   "metadata": {},
   "source": [
    "<h2>What's in the image?</h2>"
   ]
  },
  {
   "cell_type": "code",
   "execution_count": null,
   "id": "a69d8257",
   "metadata": {
    "scrolled": true
   },
   "outputs": [],
   "source": [
    "!aws rekognition detect-labels --generate-cli-skeleton input"
   ]
  },
  {
   "cell_type": "markdown",
   "id": "2072dd7c",
   "metadata": {},
   "source": [
    "<h2>Now we know the input parameters.</h2>"
   ]
  },
  {
   "cell_type": "code",
   "execution_count": null,
   "id": "c8607854",
   "metadata": {},
   "outputs": [],
   "source": [
    "!aws rekognition detect-labels --generate-cli-skeleton output"
   ]
  },
  {
   "cell_type": "markdown",
   "id": "ee7a0584",
   "metadata": {},
   "source": [
    "<h2>Another bug with the CLI. Never mind, let's deduce it from the documentation.</h2>"
   ]
  },
  {
   "cell_type": "markdown",
   "id": "f70b9049",
   "metadata": {},
   "source": [
    "<h2>CLI first</h2>"
   ]
  },
  {
   "cell_type": "code",
   "execution_count": null,
   "id": "17b0027c",
   "metadata": {},
   "outputs": [],
   "source": [
    "!aws rekognition detect-labels --image \"S3Object={Bucket=mybucket12345688888,Name=Pictures/friends-look-on-laptop_1_.jpg}\""
   ]
  },
  {
   "cell_type": "markdown",
   "id": "bb066c08",
   "metadata": {},
   "source": [
    "<h2>The same using Python</h2>"
   ]
  },
  {
   "cell_type": "code",
   "execution_count": null,
   "id": "4057e42b",
   "metadata": {},
   "outputs": [],
   "source": [
    "import boto3\n",
    "\n",
    "client = boto3.client('rekognition')"
   ]
  },
  {
   "cell_type": "code",
   "execution_count": null,
   "id": "fed922f4",
   "metadata": {},
   "outputs": [],
   "source": [
    "response = client.detect_labels(\n",
    "    Image={\n",
    "        'S3Object': {\n",
    "            'Bucket': 'mybucket12345688888',\n",
    "            'Name': 'Pictures/friends-look-on-laptop_1_.jpg'\n",
    "        }\n",
    "    },\n",
    "    MaxLabels=10,\n",
    "    MinConfidence=0.5\n",
    ")"
   ]
  },
  {
   "cell_type": "markdown",
   "id": "0bfc119c",
   "metadata": {},
   "source": [
    "<h2>What's in the response</h2>"
   ]
  },
  {
   "cell_type": "code",
   "execution_count": null,
   "id": "1f7db477",
   "metadata": {},
   "outputs": [],
   "source": [
    "print(response)"
   ]
  },
  {
   "cell_type": "code",
   "execution_count": null,
   "id": "1166300d",
   "metadata": {},
   "outputs": [],
   "source": [
    "for item in response['Labels']:\n",
    "        print(item['Name'], ' ', item['Confidence'],'%')"
   ]
  },
  {
   "cell_type": "markdown",
   "id": "bc8070ae",
   "metadata": {},
   "source": [
    "<h2>Persons is an array.</h2>"
   ]
  },
  {
   "cell_type": "code",
   "execution_count": null,
   "id": "baa308f0",
   "metadata": {},
   "outputs": [],
   "source": [
    "for inst in response['Labels'][0]['Instances']:\n",
    "    print(inst)"
   ]
  },
  {
   "cell_type": "markdown",
   "id": "fba6bd4f",
   "metadata": {},
   "source": [
    "<h2>Let's try another image.</h2>"
   ]
  },
  {
   "cell_type": "code",
   "execution_count": null,
   "id": "82270084",
   "metadata": {},
   "outputs": [],
   "source": [
    "! images\\money-in-hand.jpg"
   ]
  },
  {
   "cell_type": "markdown",
   "id": "36a6d8bd",
   "metadata": {},
   "source": [
    "<h2>CLI First</h2>"
   ]
  },
  {
   "cell_type": "code",
   "execution_count": null,
   "id": "d88ca6d0",
   "metadata": {},
   "outputs": [],
   "source": [
    "!aws rekognition detect-labels --image \"S3Object={Bucket=mybucket12345688888,Name=Pictures/money-in-hand.jpg}\""
   ]
  },
  {
   "cell_type": "markdown",
   "id": "1dc1e1b6",
   "metadata": {},
   "source": [
    "<h2>Python</h2>"
   ]
  },
  {
   "cell_type": "code",
   "execution_count": null,
   "id": "ea9b0e99",
   "metadata": {},
   "outputs": [],
   "source": [
    "response2 = client.detect_labels(\n",
    "    Image={\n",
    "        'S3Object': {\n",
    "            'Bucket': 'mybucket12345688888',\n",
    "            'Name': 'Pictures/money-in-hand.jpg'\n",
    "        }\n",
    "    },\n",
    "    MaxLabels=10,\n",
    "    MinConfidence=0.5\n",
    ")"
   ]
  },
  {
   "cell_type": "code",
   "execution_count": null,
   "id": "43bc9b8e",
   "metadata": {},
   "outputs": [],
   "source": [
    "print(response2)"
   ]
  },
  {
   "cell_type": "code",
   "execution_count": null,
   "id": "317853d1",
   "metadata": {},
   "outputs": [],
   "source": []
  }
 ],
 "metadata": {
  "kernelspec": {
   "display_name": "Python 3",
   "language": "python",
   "name": "python3"
  },
  "language_info": {
   "codemirror_mode": {
    "name": "ipython",
    "version": 3
   },
   "file_extension": ".py",
   "mimetype": "text/x-python",
   "name": "python",
   "nbconvert_exporter": "python",
   "pygments_lexer": "ipython3",
   "version": "3.9.6"
  }
 },
 "nbformat": 4,
 "nbformat_minor": 5
}
