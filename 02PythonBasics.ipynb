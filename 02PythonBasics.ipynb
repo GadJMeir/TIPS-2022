{
 "cells": [
  {
   "cell_type": "markdown",
   "id": "1f5babbd",
   "metadata": {},
   "source": [
    "<h2>Everything you need to know about Python in 12 easy steps</h2>"
   ]
  },
  {
   "cell_type": "markdown",
   "id": "60a30460",
   "metadata": {},
   "source": [
    "<h2>1) Comments start with #</h2>"
   ]
  },
  {
   "cell_type": "code",
   "execution_count": 1,
   "id": "cbf46575",
   "metadata": {},
   "outputs": [],
   "source": [
    "# this is a comment"
   ]
  },
  {
   "cell_type": "markdown",
   "id": "ec3be38d",
   "metadata": {},
   "source": [
    "<h2>2) To print use print()</h2>"
   ]
  },
  {
   "cell_type": "code",
   "execution_count": 2,
   "id": "5f8a40c3",
   "metadata": {},
   "outputs": [
    {
     "name": "stdout",
     "output_type": "stream",
     "text": [
      "Hello world 7 It is OK 9.8798 False\n"
     ]
    }
   ],
   "source": [
    "print(\"Hello world\",7, 'It is OK',6.8798+3, 1>2)"
   ]
  },
  {
   "cell_type": "markdown",
   "id": "a4fa53ea",
   "metadata": {},
   "source": [
    "<h2>3) No need to pre-declare variables just assign into them</h2>"
   ]
  },
  {
   "cell_type": "code",
   "execution_count": 3,
   "id": "a839f414",
   "metadata": {},
   "outputs": [
    {
     "name": "stdout",
     "output_type": "stream",
     "text": [
      "11111111111111111111111111111111111111112\n"
     ]
    }
   ],
   "source": [
    "Name='hi'\n",
    "num=11111111111111111111111111111111111111111\n",
    "print(num+1)"
   ]
  },
  {
   "cell_type": "markdown",
   "id": "35afbaa1",
   "metadata": {},
   "source": [
    "<h2>4) until you restsrt the notebook it remembers everything you do</h2>"
   ]
  },
  {
   "cell_type": "code",
   "execution_count": 4,
   "id": "313e8fde",
   "metadata": {},
   "outputs": [
    {
     "name": "stdout",
     "output_type": "stream",
     "text": [
      "hi\n"
     ]
    }
   ],
   "source": [
    "print(Name)"
   ]
  },
  {
   "cell_type": "code",
   "execution_count": 5,
   "id": "cd060fbe",
   "metadata": {},
   "outputs": [
    {
     "name": "stdout",
     "output_type": "stream",
     "text": [
      "11111111111111111111111111111111111111121\n"
     ]
    }
   ],
   "source": [
    "print(num+10)"
   ]
  },
  {
   "cell_type": "markdown",
   "id": "a5c579c2",
   "metadata": {},
   "source": [
    "<h2>5) If you dont know what is the type of a variable use type()</h2>"
   ]
  },
  {
   "cell_type": "code",
   "execution_count": 6,
   "id": "f8b5693b",
   "metadata": {},
   "outputs": [
    {
     "name": "stdout",
     "output_type": "stream",
     "text": [
      "<class 'str'>\n",
      "<class 'int'>\n"
     ]
    }
   ],
   "source": [
    "print(type(Name))\n",
    "print(type(num))"
   ]
  },
  {
   "cell_type": "markdown",
   "id": "905063ca",
   "metadata": {},
   "source": [
    "<h2>6) You have lists (Like arrayes but a little bit more flexible)</h2>"
   ]
  },
  {
   "cell_type": "code",
   "execution_count": 7,
   "id": "ea25f20d",
   "metadata": {},
   "outputs": [
    {
     "name": "stdout",
     "output_type": "stream",
     "text": [
      "<class 'list'>\n",
      "[2, 4, 'Hi', 'By']\n"
     ]
    }
   ],
   "source": [
    "mylist=[2,4,\"Hi\",\"By\"]\n",
    "print(type(mylist))\n",
    "print(mylist)"
   ]
  },
  {
   "cell_type": "markdown",
   "id": "ed907670",
   "metadata": {},
   "source": [
    "<h2>7) you can acces and assign to an element of a list using [] (Zero based index)</h2>"
   ]
  },
  {
   "cell_type": "code",
   "execution_count": 8,
   "id": "a74510c5",
   "metadata": {},
   "outputs": [
    {
     "name": "stdout",
     "output_type": "stream",
     "text": [
      "[2, 4, 'Hi', 'By']\n",
      "Hi\n",
      "[2, 4, 'Hi', 8888888888888888888]\n"
     ]
    }
   ],
   "source": [
    "print(mylist)\n",
    "print(mylist[2])\n",
    "mylist[3]=8888888888888888888\n",
    "print(mylist)"
   ]
  },
  {
   "cell_type": "markdown",
   "id": "a6bf073d",
   "metadata": {},
   "source": [
    "<h2>8) You have Dictionaries - list of key values</h2>"
   ]
  },
  {
   "cell_type": "code",
   "execution_count": 9,
   "id": "2fc99fdc",
   "metadata": {},
   "outputs": [
    {
     "name": "stdout",
     "output_type": "stream",
     "text": [
      "<class 'dict'>\n",
      "{'name': 'MyName', 'number': 200, 'day': 'Sunday'}\n"
     ]
    }
   ],
   "source": [
    "mydict={\"name\":\"MyName\", \"number\":200,\"day\":\"Sunday\"}\n",
    "print(type(mydict))\n",
    "print(mydict)"
   ]
  },
  {
   "cell_type": "markdown",
   "id": "c0889d49",
   "metadata": {},
   "source": [
    "<h2>9) you can acces and assign to a dictunery using []</h2> "
   ]
  },
  {
   "cell_type": "code",
   "execution_count": 10,
   "id": "be72c763",
   "metadata": {},
   "outputs": [
    {
     "name": "stdout",
     "output_type": "stream",
     "text": [
      "MyName\n",
      "200\n",
      "{'name': 'MyName', 'number': 'Hello world', 'day': 'Sunday'}\n"
     ]
    }
   ],
   "source": [
    "print(mydict[\"name\"])\n",
    "print(mydict[\"number\"])\n",
    "mydict[\"number\"]=\"Hello world\"\n",
    "print(mydict)"
   ]
  },
  {
   "cell_type": "markdown",
   "id": "86aa3384",
   "metadata": {},
   "source": [
    "<h2>10) Everything in python is an object if you want to see the methodes and properties of an object use dir()</h2>"
   ]
  },
  {
   "cell_type": "code",
   "execution_count": 11,
   "id": "45105c78",
   "metadata": {
    "scrolled": true
   },
   "outputs": [
    {
     "data": {
      "text/plain": [
       "['__add__',\n",
       " '__class__',\n",
       " '__contains__',\n",
       " '__delattr__',\n",
       " '__dir__',\n",
       " '__doc__',\n",
       " '__eq__',\n",
       " '__format__',\n",
       " '__ge__',\n",
       " '__getattribute__',\n",
       " '__getitem__',\n",
       " '__getnewargs__',\n",
       " '__gt__',\n",
       " '__hash__',\n",
       " '__init__',\n",
       " '__init_subclass__',\n",
       " '__iter__',\n",
       " '__le__',\n",
       " '__len__',\n",
       " '__lt__',\n",
       " '__mod__',\n",
       " '__mul__',\n",
       " '__ne__',\n",
       " '__new__',\n",
       " '__reduce__',\n",
       " '__reduce_ex__',\n",
       " '__repr__',\n",
       " '__rmod__',\n",
       " '__rmul__',\n",
       " '__setattr__',\n",
       " '__sizeof__',\n",
       " '__str__',\n",
       " '__subclasshook__',\n",
       " 'capitalize',\n",
       " 'casefold',\n",
       " 'center',\n",
       " 'count',\n",
       " 'encode',\n",
       " 'endswith',\n",
       " 'expandtabs',\n",
       " 'find',\n",
       " 'format',\n",
       " 'format_map',\n",
       " 'index',\n",
       " 'isalnum',\n",
       " 'isalpha',\n",
       " 'isascii',\n",
       " 'isdecimal',\n",
       " 'isdigit',\n",
       " 'isidentifier',\n",
       " 'islower',\n",
       " 'isnumeric',\n",
       " 'isprintable',\n",
       " 'isspace',\n",
       " 'istitle',\n",
       " 'isupper',\n",
       " 'join',\n",
       " 'ljust',\n",
       " 'lower',\n",
       " 'lstrip',\n",
       " 'maketrans',\n",
       " 'partition',\n",
       " 'removeprefix',\n",
       " 'removesuffix',\n",
       " 'replace',\n",
       " 'rfind',\n",
       " 'rindex',\n",
       " 'rjust',\n",
       " 'rpartition',\n",
       " 'rsplit',\n",
       " 'rstrip',\n",
       " 'split',\n",
       " 'splitlines',\n",
       " 'startswith',\n",
       " 'strip',\n",
       " 'swapcase',\n",
       " 'title',\n",
       " 'translate',\n",
       " 'upper',\n",
       " 'zfill']"
      ]
     },
     "execution_count": 11,
     "metadata": {},
     "output_type": "execute_result"
    }
   ],
   "source": [
    "dir(\"Hello\")"
   ]
  },
  {
   "cell_type": "markdown",
   "id": "ba89e303",
   "metadata": {},
   "source": [
    "<h2>11) Python uses spsces(tabs) instade of parantesis {} to define block of code.</h2> \n",
    "<h2>12) Python uses : for logical building blocks (for, if, etc...)</h2>"
   ]
  },
  {
   "cell_type": "code",
   "execution_count": 12,
   "id": "3157cdf4",
   "metadata": {},
   "outputs": [
    {
     "name": "stdout",
     "output_type": "stream",
     "text": [
      "apple\n",
      "banana\n",
      "cherry\n"
     ]
    }
   ],
   "source": [
    "fruits = [\"apple\", \"banana\", \"cherry\"]\n",
    "#\n",
    "for x in fruits: # note the :\n",
    "  print(x) # Note the tab at the beginning"
   ]
  },
  {
   "cell_type": "markdown",
   "id": "e9bd6ba9",
   "metadata": {},
   "source": [
    "<h1>That is more than enough to use the jupyter notebook for demoing and learning the AWS CLI.<h1>"
   ]
  },
  {
   "cell_type": "code",
   "execution_count": null,
   "id": "8b2f1647",
   "metadata": {},
   "outputs": [],
   "source": []
  }
 ],
 "metadata": {
  "kernelspec": {
   "display_name": "Python 3",
   "language": "python",
   "name": "python3"
  },
  "language_info": {
   "codemirror_mode": {
    "name": "ipython",
    "version": 3
   },
   "file_extension": ".py",
   "mimetype": "text/x-python",
   "name": "python",
   "nbconvert_exporter": "python",
   "pygments_lexer": "ipython3",
   "version": "3.9.6"
  }
 },
 "nbformat": 4,
 "nbformat_minor": 5
}
