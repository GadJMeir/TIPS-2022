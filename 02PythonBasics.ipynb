{
 "cells": [
  {
   "cell_type": "markdown",
   "id": "1f5babbd",
   "metadata": {},
   "source": [
    "<h2>Everything you need to know about Python in 12 easy steps</h2>"
   ]
  },
  {
   "cell_type": "markdown",
   "id": "60a30460",
   "metadata": {},
   "source": [
    "<h2>1) Comments start with #</h2>"
   ]
  },
  {
   "cell_type": "code",
   "execution_count": null,
   "id": "cbf46575",
   "metadata": {},
   "outputs": [],
   "source": [
    "# this is a comment"
   ]
  },
  {
   "cell_type": "markdown",
   "id": "ec3be38d",
   "metadata": {},
   "source": [
    "<h2>2) To print use print()</h2>"
   ]
  },
  {
   "cell_type": "code",
   "execution_count": null,
   "id": "5f8a40c3",
   "metadata": {},
   "outputs": [],
   "source": [
    "print(\"Hello world\",7, 'It is OK',6.8798+3, 1>2)"
   ]
  },
  {
   "cell_type": "markdown",
   "id": "a4fa53ea",
   "metadata": {},
   "source": [
    "<h2>3) No need to pre-declare variables just assign into them</h2>"
   ]
  },
  {
   "cell_type": "code",
   "execution_count": null,
   "id": "a839f414",
   "metadata": {},
   "outputs": [],
   "source": [
    "Name='hi'\n",
    "num=11111111111111111111111111111111111111111\n",
    "print(num+1)"
   ]
  },
  {
   "cell_type": "markdown",
   "id": "35afbaa1",
   "metadata": {},
   "source": [
    "<h2>4) until you restsrt the notebook it remembers everything you do</h2>"
   ]
  },
  {
   "cell_type": "code",
   "execution_count": null,
   "id": "313e8fde",
   "metadata": {},
   "outputs": [],
   "source": [
    "print(Name)"
   ]
  },
  {
   "cell_type": "code",
   "execution_count": null,
   "id": "cd060fbe",
   "metadata": {},
   "outputs": [],
   "source": [
    "print(num+10)"
   ]
  },
  {
   "cell_type": "markdown",
   "id": "a5c579c2",
   "metadata": {},
   "source": [
    "<h2>5) If you dont know what is the type of a variable use type()</h2>"
   ]
  },
  {
   "cell_type": "code",
   "execution_count": null,
   "id": "f8b5693b",
   "metadata": {},
   "outputs": [],
   "source": [
    "print(type(Name))\n",
    "print(type(num))"
   ]
  },
  {
   "cell_type": "markdown",
   "id": "905063ca",
   "metadata": {},
   "source": [
    "<h2>6) You have lists (Like arrayes but a little bit more flexible)</h2>"
   ]
  },
  {
   "cell_type": "code",
   "execution_count": null,
   "id": "ea25f20d",
   "metadata": {},
   "outputs": [],
   "source": [
    "mylist=[2,4,\"Hi\",\"By\"]\n",
    "print(type(mylist))\n",
    "print(mylist)"
   ]
  },
  {
   "cell_type": "markdown",
   "id": "ed907670",
   "metadata": {},
   "source": [
    "<h2>7) you can acces and assign to an element of a list using [] (Zero based index)</h2>"
   ]
  },
  {
   "cell_type": "code",
   "execution_count": null,
   "id": "a74510c5",
   "metadata": {},
   "outputs": [],
   "source": [
    "print(mylist)\n",
    "print(mylist[2])\n",
    "mylist[3]=8888888888888888888\n",
    "print(mylist)"
   ]
  },
  {
   "cell_type": "markdown",
   "id": "a6bf073d",
   "metadata": {},
   "source": [
    "<h2>8) You have Dictionaries - list of key values</h2>"
   ]
  },
  {
   "cell_type": "code",
   "execution_count": null,
   "id": "2fc99fdc",
   "metadata": {},
   "outputs": [],
   "source": [
    "mydict={\"name\":\"MyName\", \"number\":200,\"day\":\"Sunday\"}\n",
    "print(type(mydict))\n",
    "print(mydict)"
   ]
  },
  {
   "cell_type": "markdown",
   "id": "c0889d49",
   "metadata": {},
   "source": [
    "<h2>9) you can acces and assign to a dictunery using []</h2> "
   ]
  },
  {
   "cell_type": "code",
   "execution_count": null,
   "id": "be72c763",
   "metadata": {},
   "outputs": [],
   "source": [
    "print(mydict[\"name\"])\n",
    "print(mydict[\"number\"])\n",
    "mydict[\"number\"]=\"Hello world\"\n",
    "print(mydict)"
   ]
  },
  {
   "cell_type": "markdown",
   "id": "86aa3384",
   "metadata": {},
   "source": [
    "<h2>10) Everything in python is an object if you want to see the methodes and properties of an object use dir()</h2>"
   ]
  },
  {
   "cell_type": "code",
   "execution_count": null,
   "id": "45105c78",
   "metadata": {
    "scrolled": true
   },
   "outputs": [],
   "source": [
    "dir(\"Hello\")"
   ]
  },
  {
   "cell_type": "markdown",
   "id": "ba89e303",
   "metadata": {},
   "source": [
    "<h2>11) Python uses spsces(tabs) instade of parantesis {} to define block of code.</h2> \n",
    "<h2>12) Python uses : for logical building blocks (for, if, etc...)</h2>"
   ]
  },
  {
   "cell_type": "code",
   "execution_count": null,
   "id": "3157cdf4",
   "metadata": {},
   "outputs": [],
   "source": [
    "fruits = [\"apple\", \"banana\", \"cherry\"]\n",
    "#\n",
    "for x in fruits: # note the :\n",
    "  print(x) # Note the tab at the beginning"
   ]
  },
  {
   "cell_type": "markdown",
   "id": "e9bd6ba9",
   "metadata": {},
   "source": [
    "<h1>That is more than enough to use the jupyter notebook for demoing and learning the AWS CLI.<h1>"
   ]
  },
  {
   "cell_type": "code",
   "execution_count": null,
   "id": "8b2f1647",
   "metadata": {},
   "outputs": [],
   "source": []
  }
 ],
 "metadata": {
  "kernelspec": {
   "display_name": "Python 3",
   "language": "python",
   "name": "python3"
  },
  "language_info": {
   "codemirror_mode": {
    "name": "ipython",
    "version": 3
   },
   "file_extension": ".py",
   "mimetype": "text/x-python",
   "name": "python",
   "nbconvert_exporter": "python",
   "pygments_lexer": "ipython3",
   "version": "3.9.6"
  }
 },
 "nbformat": 4,
 "nbformat_minor": 5
}
