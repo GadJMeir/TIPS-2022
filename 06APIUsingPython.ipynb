{
 "cells": [
  {
   "cell_type": "code",
   "execution_count": null,
   "id": "8e90f2d1",
   "metadata": {},
   "outputs": [],
   "source": [
    "! aws s3api list-buckets"
   ]
  },
  {
   "cell_type": "code",
   "execution_count": null,
   "id": "84a3e0ce",
   "metadata": {},
   "outputs": [],
   "source": [
    "! aws s3api list-buckets --generate-cli-skeleton"
   ]
  },
  {
   "cell_type": "markdown",
   "id": "f0a0454c",
   "metadata": {},
   "source": [
    "<h2>How complicated is it to translate everything we did to code using Python?</h2>\n",
    "<h2>Judge for yourself</h2>"
   ]
  },
  {
   "cell_type": "code",
   "execution_count": null,
   "id": "7a2ed205",
   "metadata": {},
   "outputs": [],
   "source": [
    "! aws s3api list-buckets --generate-cli-skeleton output"
   ]
  },
  {
   "cell_type": "markdown",
   "id": "de3899fa",
   "metadata": {},
   "source": [
    "<h2>No input parameters, So...</h2>"
   ]
  },
  {
   "cell_type": "markdown",
   "id": "5b6d13bf",
   "metadata": {},
   "source": [
    "<h2>1) Import the library of the service</h2>"
   ]
  },
  {
   "cell_type": "code",
   "execution_count": 1,
   "id": "9a453bb3",
   "metadata": {},
   "outputs": [],
   "source": [
    "import boto3 #get the library"
   ]
  },
  {
   "cell_type": "markdown",
   "id": "99955413",
   "metadata": {},
   "source": [
    "<h2>2) Initialize the connection</h2>"
   ]
  },
  {
   "cell_type": "code",
   "execution_count": 2,
   "id": "cf6e70c4",
   "metadata": {},
   "outputs": [],
   "source": [
    "client = boto3.client('s3') #initialise the connection"
   ]
  },
  {
   "cell_type": "markdown",
   "id": "36981460",
   "metadata": {},
   "source": [
    "<h2>3) Execute the call</h2>"
   ]
  },
  {
   "cell_type": "code",
   "execution_count": 3,
   "id": "90e1343d",
   "metadata": {},
   "outputs": [],
   "source": [
    "response = client.list_buckets() #execute the API"
   ]
  },
  {
   "cell_type": "markdown",
   "id": "91f40efc",
   "metadata": {},
   "source": [
    "<h2>4) Print the response</h2>"
   ]
  },
  {
   "cell_type": "code",
   "execution_count": 4,
   "id": "ce5b26f6",
   "metadata": {},
   "outputs": [
    {
     "name": "stdout",
     "output_type": "stream",
     "text": [
      "{'ResponseMetadata': {'RequestId': '8P2NHAW519Q4M27R', 'HostId': 'EOijdHyDzAtCEM2L40bqbyRPO21DsMqJzFgfF5iCz7NPvuz9D0fC1XQPuKVdqsIQWkEZ7fT3PkU=', 'HTTPStatusCode': 200, 'HTTPHeaders': {'x-amz-id-2': 'EOijdHyDzAtCEM2L40bqbyRPO21DsMqJzFgfF5iCz7NPvuz9D0fC1XQPuKVdqsIQWkEZ7fT3PkU=', 'x-amz-request-id': '8P2NHAW519Q4M27R', 'date': 'Thu, 07 Apr 2022 12:09:43 GMT', 'content-type': 'application/xml', 'transfer-encoding': 'chunked', 'server': 'AmazonS3'}, 'RetryAttempts': 0}, 'Buckets': [{'Name': 'aws-cloudtrail-logs-052187430644-20220326', 'CreationDate': datetime.datetime(2022, 3, 26, 11, 37, 23, tzinfo=tzutc())}, {'Name': 'aws-codestar-us-east-1-052187430644', 'CreationDate': datetime.datetime(2022, 3, 21, 15, 32, 11, tzinfo=tzutc())}, {'Name': 'aws-codestar-us-east-1-052187430644-gdtodelete-app', 'CreationDate': datetime.datetime(2022, 3, 21, 15, 32, 25, tzinfo=tzutc())}, {'Name': 'aws-codestar-us-east-1-052187430644-gdtodelete-pipe', 'CreationDate': datetime.datetime(2022, 3, 21, 15, 32, 25, tzinfo=tzutc())}, {'Name': 'aws-sam-cli-managed-default-samclisourcebucket-17xjjmpy503t7', 'CreationDate': datetime.datetime(2021, 10, 16, 10, 38, 40, tzinfo=tzutc())}, {'Name': 'cf-templates-iv2e0susycjb-us-east-1', 'CreationDate': datetime.datetime(2022, 1, 5, 7, 25, 45, tzinfo=tzutc())}, {'Name': 'cf-templates-iv2e0susycjb-us-east-2', 'CreationDate': datetime.datetime(2022, 3, 17, 18, 8, 9, tzinfo=tzutc())}, {'Name': 'config-bucket-for-aws-config-20220326', 'CreationDate': datetime.datetime(2022, 3, 26, 11, 17, 4, tzinfo=tzutc())}, {'Name': 'elasticbeanstalk-us-east-1-052187430644', 'CreationDate': datetime.datetime(2022, 3, 21, 12, 35, 33, tzinfo=tzutc())}, {'Name': 'elasticbeanstalk-us-west-2-052187430644', 'CreationDate': datetime.datetime(2022, 3, 17, 17, 30, 51, tzinfo=tzutc())}, {'Name': 'error-processor-bucket-4tbf5ftnncpg', 'CreationDate': datetime.datetime(2021, 10, 16, 11, 25, 58, tzinfo=tzutc())}, {'Name': 'gd-demo-slotmachine-o', 'CreationDate': datetime.datetime(2022, 3, 15, 16, 36, 52, tzinfo=tzutc())}, {'Name': 'gd-doav4-demo', 'CreationDate': datetime.datetime(2022, 2, 25, 12, 14, 12, tzinfo=tzutc())}, {'Name': 'gd-flow-logs-collector-20220327', 'CreationDate': datetime.datetime(2022, 3, 27, 16, 19, 10, tzinfo=tzutc())}, {'Name': 'mybucket12345688888', 'CreationDate': datetime.datetime(2021, 6, 23, 8, 17, 4, tzinfo=tzutc())}, {'Name': 'node-sdk-sample-f722a781-d19a-46fd-906c-64a33c17b9a8', 'CreationDate': datetime.datetime(2021, 10, 18, 10, 0, 30, tzinfo=tzutc())}], 'Owner': {'DisplayName': 'idag.aws01', 'ID': 'e9bace08b2372c7a4b5c0ba5fb445ea0a180afa06d91cd54237d916f58fcb84b'}}\n"
     ]
    }
   ],
   "source": [
    "print(response) #print the response"
   ]
  },
  {
   "cell_type": "markdown",
   "id": "ae198d59",
   "metadata": {},
   "source": [
    "<h2>That's all!</h2>\n",
    "<h2>=============================================================</h2>\n",
    "<h2>Let's dig deeper</h2>"
   ]
  },
  {
   "cell_type": "markdown",
   "id": "f9509e9e",
   "metadata": {},
   "source": [
    "<h2>What type is the response?</h2>"
   ]
  },
  {
   "cell_type": "code",
   "execution_count": 5,
   "id": "588973dd",
   "metadata": {},
   "outputs": [
    {
     "name": "stdout",
     "output_type": "stream",
     "text": [
      "<class 'dict'>\n"
     ]
    }
   ],
   "source": [
    "print(type(response))"
   ]
  },
  {
   "cell_type": "markdown",
   "id": "0c4ae27d",
   "metadata": {},
   "source": [
    "<h2>For loop to the rescue:</h2>"
   ]
  },
  {
   "cell_type": "code",
   "execution_count": 6,
   "id": "c4a46b4e",
   "metadata": {},
   "outputs": [
    {
     "name": "stdout",
     "output_type": "stream",
     "text": [
      "ResponseMetadata\n",
      "Buckets\n",
      "Owner\n"
     ]
    }
   ],
   "source": [
    "for item in response:\n",
    "    print(item)"
   ]
  },
  {
   "cell_type": "markdown",
   "id": "7f4738c7",
   "metadata": {},
   "source": [
    "<h2>So What is in each one of them?</h2>"
   ]
  },
  {
   "cell_type": "code",
   "execution_count": 7,
   "id": "4cec6319",
   "metadata": {
    "scrolled": true
   },
   "outputs": [
    {
     "name": "stdout",
     "output_type": "stream",
     "text": [
      "<class 'dict'>\n",
      "----------------------\n",
      "{'RequestId': '8P2NHAW519Q4M27R', 'HostId': 'EOijdHyDzAtCEM2L40bqbyRPO21DsMqJzFgfF5iCz7NPvuz9D0fC1XQPuKVdqsIQWkEZ7fT3PkU=', 'HTTPStatusCode': 200, 'HTTPHeaders': {'x-amz-id-2': 'EOijdHyDzAtCEM2L40bqbyRPO21DsMqJzFgfF5iCz7NPvuz9D0fC1XQPuKVdqsIQWkEZ7fT3PkU=', 'x-amz-request-id': '8P2NHAW519Q4M27R', 'date': 'Thu, 07 Apr 2022 12:09:43 GMT', 'content-type': 'application/xml', 'transfer-encoding': 'chunked', 'server': 'AmazonS3'}, 'RetryAttempts': 0}\n"
     ]
    }
   ],
   "source": [
    "print(type(response['ResponseMetadata']))\n",
    "print(\"----------------------\")\n",
    "print(response['ResponseMetadata'])"
   ]
  },
  {
   "cell_type": "markdown",
   "id": "8bc5557b",
   "metadata": {},
   "source": [
    "<h2>Another Dictionary, so another for loop</h2>"
   ]
  },
  {
   "cell_type": "code",
   "execution_count": 8,
   "id": "1d0a5c23",
   "metadata": {},
   "outputs": [
    {
     "name": "stdout",
     "output_type": "stream",
     "text": [
      "RequestId -> 8P2NHAW519Q4M27R\n",
      "HostId -> EOijdHyDzAtCEM2L40bqbyRPO21DsMqJzFgfF5iCz7NPvuz9D0fC1XQPuKVdqsIQWkEZ7fT3PkU=\n",
      "HTTPStatusCode -> 200\n",
      "HTTPHeaders -> {'x-amz-id-2': 'EOijdHyDzAtCEM2L40bqbyRPO21DsMqJzFgfF5iCz7NPvuz9D0fC1XQPuKVdqsIQWkEZ7fT3PkU=', 'x-amz-request-id': '8P2NHAW519Q4M27R', 'date': 'Thu, 07 Apr 2022 12:09:43 GMT', 'content-type': 'application/xml', 'transfer-encoding': 'chunked', 'server': 'AmazonS3'}\n",
      "RetryAttempts -> 0\n"
     ]
    }
   ],
   "source": [
    "for item2 in response['ResponseMetadata']:\n",
    "    print(item2,'->',response['ResponseMetadata'][item2])"
   ]
  },
  {
   "cell_type": "markdown",
   "id": "d2aa6247",
   "metadata": {},
   "source": [
    "<h2> And what about the HTTPHeaders?</h2>"
   ]
  },
  {
   "cell_type": "code",
   "execution_count": 9,
   "id": "a9914688",
   "metadata": {},
   "outputs": [
    {
     "name": "stdout",
     "output_type": "stream",
     "text": [
      "x-amz-id-2 -> EOijdHyDzAtCEM2L40bqbyRPO21DsMqJzFgfF5iCz7NPvuz9D0fC1XQPuKVdqsIQWkEZ7fT3PkU=\n",
      "x-amz-request-id -> 8P2NHAW519Q4M27R\n",
      "date -> Thu, 07 Apr 2022 12:09:43 GMT\n",
      "content-type -> application/xml\n",
      "transfer-encoding -> chunked\n",
      "server -> AmazonS3\n"
     ]
    }
   ],
   "source": [
    "for item3 in response['ResponseMetadata']['HTTPHeaders']:\n",
    "    print(item3,'->',response['ResponseMetadata']['HTTPHeaders'][item3])"
   ]
  },
  {
   "cell_type": "markdown",
   "id": "19ac8901",
   "metadata": {},
   "source": [
    "<h2>What about the Buckets?</h2>"
   ]
  },
  {
   "cell_type": "code",
   "execution_count": 10,
   "id": "9cb46ef6",
   "metadata": {},
   "outputs": [
    {
     "name": "stdout",
     "output_type": "stream",
     "text": [
      "<class 'list'>\n",
      "----------------------\n",
      "[{'Name': 'aws-cloudtrail-logs-052187430644-20220326', 'CreationDate': datetime.datetime(2022, 3, 26, 11, 37, 23, tzinfo=tzutc())}, {'Name': 'aws-codestar-us-east-1-052187430644', 'CreationDate': datetime.datetime(2022, 3, 21, 15, 32, 11, tzinfo=tzutc())}, {'Name': 'aws-codestar-us-east-1-052187430644-gdtodelete-app', 'CreationDate': datetime.datetime(2022, 3, 21, 15, 32, 25, tzinfo=tzutc())}, {'Name': 'aws-codestar-us-east-1-052187430644-gdtodelete-pipe', 'CreationDate': datetime.datetime(2022, 3, 21, 15, 32, 25, tzinfo=tzutc())}, {'Name': 'aws-sam-cli-managed-default-samclisourcebucket-17xjjmpy503t7', 'CreationDate': datetime.datetime(2021, 10, 16, 10, 38, 40, tzinfo=tzutc())}, {'Name': 'cf-templates-iv2e0susycjb-us-east-1', 'CreationDate': datetime.datetime(2022, 1, 5, 7, 25, 45, tzinfo=tzutc())}, {'Name': 'cf-templates-iv2e0susycjb-us-east-2', 'CreationDate': datetime.datetime(2022, 3, 17, 18, 8, 9, tzinfo=tzutc())}, {'Name': 'config-bucket-for-aws-config-20220326', 'CreationDate': datetime.datetime(2022, 3, 26, 11, 17, 4, tzinfo=tzutc())}, {'Name': 'elasticbeanstalk-us-east-1-052187430644', 'CreationDate': datetime.datetime(2022, 3, 21, 12, 35, 33, tzinfo=tzutc())}, {'Name': 'elasticbeanstalk-us-west-2-052187430644', 'CreationDate': datetime.datetime(2022, 3, 17, 17, 30, 51, tzinfo=tzutc())}, {'Name': 'error-processor-bucket-4tbf5ftnncpg', 'CreationDate': datetime.datetime(2021, 10, 16, 11, 25, 58, tzinfo=tzutc())}, {'Name': 'gd-demo-slotmachine-o', 'CreationDate': datetime.datetime(2022, 3, 15, 16, 36, 52, tzinfo=tzutc())}, {'Name': 'gd-doav4-demo', 'CreationDate': datetime.datetime(2022, 2, 25, 12, 14, 12, tzinfo=tzutc())}, {'Name': 'gd-flow-logs-collector-20220327', 'CreationDate': datetime.datetime(2022, 3, 27, 16, 19, 10, tzinfo=tzutc())}, {'Name': 'mybucket12345688888', 'CreationDate': datetime.datetime(2021, 6, 23, 8, 17, 4, tzinfo=tzutc())}, {'Name': 'node-sdk-sample-f722a781-d19a-46fd-906c-64a33c17b9a8', 'CreationDate': datetime.datetime(2021, 10, 18, 10, 0, 30, tzinfo=tzutc())}]\n"
     ]
    }
   ],
   "source": [
    "print(type(response['Buckets']))\n",
    "print(\"----------------------\")\n",
    "print(response['Buckets'])"
   ]
  },
  {
   "cell_type": "markdown",
   "id": "b157924c",
   "metadata": {},
   "source": [
    "<h2>A list is a for loop too.</h2>"
   ]
  },
  {
   "cell_type": "code",
   "execution_count": 11,
   "id": "512e6587",
   "metadata": {},
   "outputs": [
    {
     "name": "stdout",
     "output_type": "stream",
     "text": [
      "{'Name': 'aws-cloudtrail-logs-052187430644-20220326', 'CreationDate': datetime.datetime(2022, 3, 26, 11, 37, 23, tzinfo=tzutc())}\n",
      "{'Name': 'aws-codestar-us-east-1-052187430644', 'CreationDate': datetime.datetime(2022, 3, 21, 15, 32, 11, tzinfo=tzutc())}\n",
      "{'Name': 'aws-codestar-us-east-1-052187430644-gdtodelete-app', 'CreationDate': datetime.datetime(2022, 3, 21, 15, 32, 25, tzinfo=tzutc())}\n",
      "{'Name': 'aws-codestar-us-east-1-052187430644-gdtodelete-pipe', 'CreationDate': datetime.datetime(2022, 3, 21, 15, 32, 25, tzinfo=tzutc())}\n",
      "{'Name': 'aws-sam-cli-managed-default-samclisourcebucket-17xjjmpy503t7', 'CreationDate': datetime.datetime(2021, 10, 16, 10, 38, 40, tzinfo=tzutc())}\n",
      "{'Name': 'cf-templates-iv2e0susycjb-us-east-1', 'CreationDate': datetime.datetime(2022, 1, 5, 7, 25, 45, tzinfo=tzutc())}\n",
      "{'Name': 'cf-templates-iv2e0susycjb-us-east-2', 'CreationDate': datetime.datetime(2022, 3, 17, 18, 8, 9, tzinfo=tzutc())}\n",
      "{'Name': 'config-bucket-for-aws-config-20220326', 'CreationDate': datetime.datetime(2022, 3, 26, 11, 17, 4, tzinfo=tzutc())}\n",
      "{'Name': 'elasticbeanstalk-us-east-1-052187430644', 'CreationDate': datetime.datetime(2022, 3, 21, 12, 35, 33, tzinfo=tzutc())}\n",
      "{'Name': 'elasticbeanstalk-us-west-2-052187430644', 'CreationDate': datetime.datetime(2022, 3, 17, 17, 30, 51, tzinfo=tzutc())}\n",
      "{'Name': 'error-processor-bucket-4tbf5ftnncpg', 'CreationDate': datetime.datetime(2021, 10, 16, 11, 25, 58, tzinfo=tzutc())}\n",
      "{'Name': 'gd-demo-slotmachine-o', 'CreationDate': datetime.datetime(2022, 3, 15, 16, 36, 52, tzinfo=tzutc())}\n",
      "{'Name': 'gd-doav4-demo', 'CreationDate': datetime.datetime(2022, 2, 25, 12, 14, 12, tzinfo=tzutc())}\n",
      "{'Name': 'gd-flow-logs-collector-20220327', 'CreationDate': datetime.datetime(2022, 3, 27, 16, 19, 10, tzinfo=tzutc())}\n",
      "{'Name': 'mybucket12345688888', 'CreationDate': datetime.datetime(2021, 6, 23, 8, 17, 4, tzinfo=tzutc())}\n",
      "{'Name': 'node-sdk-sample-f722a781-d19a-46fd-906c-64a33c17b9a8', 'CreationDate': datetime.datetime(2021, 10, 18, 10, 0, 30, tzinfo=tzutc())}\n"
     ]
    }
   ],
   "source": [
    "for itemb1 in response['Buckets']:\n",
    "    print(itemb1)"
   ]
  },
  {
   "cell_type": "markdown",
   "id": "c94a7762",
   "metadata": {},
   "source": [
    "<h2>Or more nicely</h2>"
   ]
  },
  {
   "cell_type": "code",
   "execution_count": 12,
   "id": "b9a413d0",
   "metadata": {},
   "outputs": [
    {
     "name": "stdout",
     "output_type": "stream",
     "text": [
      "Key: aws-cloudtrail-logs-052187430644-20220326  Creation Day: 2022-03-26 11:37:23+00:00\n",
      "Key: aws-codestar-us-east-1-052187430644  Creation Day: 2022-03-21 15:32:11+00:00\n",
      "Key: aws-codestar-us-east-1-052187430644-gdtodelete-app  Creation Day: 2022-03-21 15:32:25+00:00\n",
      "Key: aws-codestar-us-east-1-052187430644-gdtodelete-pipe  Creation Day: 2022-03-21 15:32:25+00:00\n",
      "Key: aws-sam-cli-managed-default-samclisourcebucket-17xjjmpy503t7  Creation Day: 2021-10-16 10:38:40+00:00\n",
      "Key: cf-templates-iv2e0susycjb-us-east-1  Creation Day: 2022-01-05 07:25:45+00:00\n",
      "Key: cf-templates-iv2e0susycjb-us-east-2  Creation Day: 2022-03-17 18:08:09+00:00\n",
      "Key: config-bucket-for-aws-config-20220326  Creation Day: 2022-03-26 11:17:04+00:00\n",
      "Key: elasticbeanstalk-us-east-1-052187430644  Creation Day: 2022-03-21 12:35:33+00:00\n",
      "Key: elasticbeanstalk-us-west-2-052187430644  Creation Day: 2022-03-17 17:30:51+00:00\n",
      "Key: error-processor-bucket-4tbf5ftnncpg  Creation Day: 2021-10-16 11:25:58+00:00\n",
      "Key: gd-demo-slotmachine-o  Creation Day: 2022-03-15 16:36:52+00:00\n",
      "Key: gd-doav4-demo  Creation Day: 2022-02-25 12:14:12+00:00\n",
      "Key: gd-flow-logs-collector-20220327  Creation Day: 2022-03-27 16:19:10+00:00\n",
      "Key: mybucket12345688888  Creation Day: 2021-06-23 08:17:04+00:00\n",
      "Key: node-sdk-sample-f722a781-d19a-46fd-906c-64a33c17b9a8  Creation Day: 2021-10-18 10:00:30+00:00\n"
     ]
    }
   ],
   "source": [
    "for itemb1 in response['Buckets']:\n",
    "    print('Key:',itemb1['Name'],' Creation Day:',itemb1['CreationDate'])"
   ]
  },
  {
   "cell_type": "markdown",
   "id": "180b3c73",
   "metadata": {},
   "source": [
    "<h2>Last but not least, the Owner</h2>"
   ]
  },
  {
   "cell_type": "code",
   "execution_count": 13,
   "id": "4bbe388e",
   "metadata": {},
   "outputs": [
    {
     "name": "stdout",
     "output_type": "stream",
     "text": [
      "<class 'dict'>\n",
      "----------------------\n",
      "{'DisplayName': 'idag.aws01', 'ID': 'e9bace08b2372c7a4b5c0ba5fb445ea0a180afa06d91cd54237d916f58fcb84b'}\n"
     ]
    }
   ],
   "source": [
    "print(type(response['Owner']))\n",
    "print(\"----------------------\")\n",
    "print(response['Owner'])"
   ]
  },
  {
   "cell_type": "code",
   "execution_count": null,
   "id": "167ebe6b",
   "metadata": {},
   "outputs": [],
   "source": [
    "for itemo1 in response['Owner']:\n",
    "    print(itemo1,'->',response['Owner'][itemo1])"
   ]
  },
  {
   "cell_type": "markdown",
   "id": "04f70b77",
   "metadata": {},
   "source": [
    "<h2>You can access any item specifically.</h2>"
   ]
  },
  {
   "cell_type": "code",
   "execution_count": 14,
   "id": "f63d55b8",
   "metadata": {},
   "outputs": [
    {
     "data": {
      "text/plain": [
       "'aws-cloudtrail-logs-052187430644-20220326'"
      ]
     },
     "execution_count": 14,
     "metadata": {},
     "output_type": "execute_result"
    }
   ],
   "source": [
    "response['Buckets'][0]['Name']"
   ]
  },
  {
   "cell_type": "code",
   "execution_count": null,
   "id": "7006e4dc",
   "metadata": {},
   "outputs": [],
   "source": []
  }
 ],
 "metadata": {
  "kernelspec": {
   "display_name": "Python 3",
   "language": "python",
   "name": "python3"
  },
  "language_info": {
   "codemirror_mode": {
    "name": "ipython",
    "version": 3
   },
   "file_extension": ".py",
   "mimetype": "text/x-python",
   "name": "python",
   "nbconvert_exporter": "python",
   "pygments_lexer": "ipython3",
   "version": "3.9.6"
  }
 },
 "nbformat": 4,
 "nbformat_minor": 5
}
