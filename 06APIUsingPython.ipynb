{
 "cells": [
  {
   "cell_type": "code",
   "execution_count": null,
   "id": "8e90f2d1",
   "metadata": {},
   "outputs": [],
   "source": [
    "! aws s3api list-buckets"
   ]
  },
  {
   "cell_type": "code",
   "execution_count": null,
   "id": "84a3e0ce",
   "metadata": {},
   "outputs": [],
   "source": [
    "! aws s3api list-buckets --generate-cli-skeleton"
   ]
  },
  {
   "cell_type": "markdown",
   "id": "f0a0454c",
   "metadata": {},
   "source": [
    "<h2>How complicated is it to translate everything we did to code using Python?</h2>\n",
    "<h2>Judge for yourself</h2>"
   ]
  },
  {
   "cell_type": "code",
   "execution_count": null,
   "id": "7a2ed205",
   "metadata": {},
   "outputs": [],
   "source": [
    "! aws s3api list-buckets --generate-cli-skeleton output"
   ]
  },
  {
   "cell_type": "markdown",
   "id": "de3899fa",
   "metadata": {},
   "source": [
    "<h2>No input parameters, So...</h2>"
   ]
  },
  {
   "cell_type": "markdown",
   "id": "5b6d13bf",
   "metadata": {},
   "source": [
    "<h2>1) Import the library of the service</h2>"
   ]
  },
  {
   "cell_type": "code",
   "execution_count": null,
   "id": "9a453bb3",
   "metadata": {},
   "outputs": [],
   "source": [
    "import boto3 #get the library"
   ]
  },
  {
   "cell_type": "markdown",
   "id": "99955413",
   "metadata": {},
   "source": [
    "<h2>2) Initialize the connection</h2>"
   ]
  },
  {
   "cell_type": "code",
   "execution_count": null,
   "id": "cf6e70c4",
   "metadata": {},
   "outputs": [],
   "source": [
    "client = boto3.client('s3') #initialise the connection"
   ]
  },
  {
   "cell_type": "markdown",
   "id": "36981460",
   "metadata": {},
   "source": [
    "<h2>3) Execute the call</h2>"
   ]
  },
  {
   "cell_type": "code",
   "execution_count": null,
   "id": "90e1343d",
   "metadata": {},
   "outputs": [],
   "source": [
    "response = client.list_buckets() #execute the API"
   ]
  },
  {
   "cell_type": "markdown",
   "id": "91f40efc",
   "metadata": {},
   "source": [
    "<h2>4) Print the response</h2>"
   ]
  },
  {
   "cell_type": "code",
   "execution_count": null,
   "id": "ce5b26f6",
   "metadata": {},
   "outputs": [],
   "source": [
    "print(response) #print the response"
   ]
  },
  {
   "cell_type": "markdown",
   "id": "ae198d59",
   "metadata": {},
   "source": [
    "<h2>That's all!</h2>\n",
    "<h2>=============================================================</h2>\n",
    "<h2>Let's dig deeper</h2>"
   ]
  },
  {
   "cell_type": "markdown",
   "id": "f9509e9e",
   "metadata": {},
   "source": [
    "<h2>What type is the response?</h2>"
   ]
  },
  {
   "cell_type": "code",
   "execution_count": null,
   "id": "588973dd",
   "metadata": {},
   "outputs": [],
   "source": [
    "print(type(response))"
   ]
  },
  {
   "cell_type": "markdown",
   "id": "0c4ae27d",
   "metadata": {},
   "source": [
    "<h2>For loop to the rescue:</h2>"
   ]
  },
  {
   "cell_type": "code",
   "execution_count": null,
   "id": "c4a46b4e",
   "metadata": {},
   "outputs": [],
   "source": [
    "for item in response:\n",
    "    print(item)"
   ]
  },
  {
   "cell_type": "markdown",
   "id": "7f4738c7",
   "metadata": {},
   "source": [
    "<h2>So What is in each one of them?</h2>"
   ]
  },
  {
   "cell_type": "code",
   "execution_count": null,
   "id": "4cec6319",
   "metadata": {
    "scrolled": true
   },
   "outputs": [],
   "source": [
    "print(type(response['ResponseMetadata']))\n",
    "print(\"----------------------\")\n",
    "print(response['ResponseMetadata'])"
   ]
  },
  {
   "cell_type": "markdown",
   "id": "8bc5557b",
   "metadata": {},
   "source": [
    "<h2>Another Dictionary, so another for loop</h2>"
   ]
  },
  {
   "cell_type": "code",
   "execution_count": null,
   "id": "1d0a5c23",
   "metadata": {},
   "outputs": [],
   "source": [
    "for item2 in response['ResponseMetadata']:\n",
    "    print(item2,'->',response['ResponseMetadata'][item2])"
   ]
  },
  {
   "cell_type": "markdown",
   "id": "d2aa6247",
   "metadata": {},
   "source": [
    "<h2> And what about the HTTPHeaders?</h2>"
   ]
  },
  {
   "cell_type": "code",
   "execution_count": null,
   "id": "a9914688",
   "metadata": {},
   "outputs": [],
   "source": [
    "for item3 in response['ResponseMetadata']['HTTPHeaders']:\n",
    "    print(item3,'->',response['ResponseMetadata']['HTTPHeaders'][item3])"
   ]
  },
  {
   "cell_type": "markdown",
   "id": "19ac8901",
   "metadata": {},
   "source": [
    "<h2>What about the Buckets?</h2>"
   ]
  },
  {
   "cell_type": "code",
   "execution_count": null,
   "id": "9cb46ef6",
   "metadata": {},
   "outputs": [],
   "source": [
    "print(type(response['Buckets']))\n",
    "print(\"----------------------\")\n",
    "print(response['Buckets'])"
   ]
  },
  {
   "cell_type": "markdown",
   "id": "b157924c",
   "metadata": {},
   "source": [
    "<h2>A list is a for loop too.</h2>"
   ]
  },
  {
   "cell_type": "code",
   "execution_count": null,
   "id": "512e6587",
   "metadata": {},
   "outputs": [],
   "source": [
    "for itemb1 in response['Buckets']:\n",
    "    print(itemb1)"
   ]
  },
  {
   "cell_type": "markdown",
   "id": "c94a7762",
   "metadata": {},
   "source": [
    "<h2>Or more nicely</h2>"
   ]
  },
  {
   "cell_type": "code",
   "execution_count": null,
   "id": "b9a413d0",
   "metadata": {},
   "outputs": [],
   "source": [
    "for itemb1 in response['Buckets']:\n",
    "    print('Key:',itemb1['Name'],' Creation Day:',itemb1['CreationDate'])"
   ]
  },
  {
   "cell_type": "markdown",
   "id": "180b3c73",
   "metadata": {},
   "source": [
    "<h2>Last but not least, the Owner</h2>"
   ]
  },
  {
   "cell_type": "code",
   "execution_count": null,
   "id": "4bbe388e",
   "metadata": {},
   "outputs": [],
   "source": [
    "print(type(response['Owner']))\n",
    "print(\"----------------------\")\n",
    "print(response['Owner'])"
   ]
  },
  {
   "cell_type": "code",
   "execution_count": null,
   "id": "167ebe6b",
   "metadata": {},
   "outputs": [],
   "source": [
    "for itemo1 in response['Owner']:\n",
    "    print(itemo1,'->',response['Owner'][itemo1])"
   ]
  },
  {
   "cell_type": "markdown",
   "id": "04f70b77",
   "metadata": {},
   "source": [
    "<h2>You can access any item specifically.</h2>"
   ]
  },
  {
   "cell_type": "code",
   "execution_count": null,
   "id": "f63d55b8",
   "metadata": {},
   "outputs": [],
   "source": [
    "response['Buckets'][0]['Name']"
   ]
  },
  {
   "cell_type": "code",
   "execution_count": null,
   "id": "7006e4dc",
   "metadata": {},
   "outputs": [],
   "source": []
  }
 ],
 "metadata": {
  "kernelspec": {
   "display_name": "Python 3",
   "language": "python",
   "name": "python3"
  },
  "language_info": {
   "codemirror_mode": {
    "name": "ipython",
    "version": 3
   },
   "file_extension": ".py",
   "mimetype": "text/x-python",
   "name": "python",
   "nbconvert_exporter": "python",
   "pygments_lexer": "ipython3",
   "version": "3.9.6"
  }
 },
 "nbformat": 4,
 "nbformat_minor": 5
}
