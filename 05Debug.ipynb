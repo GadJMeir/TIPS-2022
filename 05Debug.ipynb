{
 "cells": [
  {
   "cell_type": "markdown",
   "id": "0a42b98f",
   "metadata": {},
   "source": [
    "<h2>The --debug parameter enables us to look under the hood and see what happens when you execute an API call.</h2>"
   ]
  },
  {
   "cell_type": "code",
   "execution_count": null,
   "id": "69d35879",
   "metadata": {
    "scrolled": true
   },
   "outputs": [],
   "source": [
    "!aws s3api list-buckets"
   ]
  },
  {
   "cell_type": "code",
   "execution_count": null,
   "id": "781e2f34",
   "metadata": {
    "scrolled": true
   },
   "outputs": [],
   "source": [
    "!aws s3api list-buckets --debug"
   ]
  },
  {
   "cell_type": "markdown",
   "id": "0c1d4464",
   "metadata": {},
   "source": [
    "<h2>First, we need to capture the output:</h2>"
   ]
  },
  {
   "cell_type": "code",
   "execution_count": null,
   "id": "71a51429",
   "metadata": {},
   "outputs": [],
   "source": [
    "%%capture deburesults\n",
    "!aws s3api list-buckets --debug"
   ]
  },
  {
   "cell_type": "markdown",
   "id": "e7f05467",
   "metadata": {},
   "source": [
    "<h2>The results, as expected, are in the stdout:</h2>"
   ]
  },
  {
   "cell_type": "code",
   "execution_count": null,
   "id": "5a24612e",
   "metadata": {},
   "outputs": [],
   "source": [
    "print(deburesults.stdout)"
   ]
  },
  {
   "cell_type": "markdown",
   "id": "b5bdc0ab",
   "metadata": {},
   "source": [
    "<h2>The gold is in the stderr:</h2>"
   ]
  },
  {
   "cell_type": "code",
   "execution_count": null,
   "id": "e6fa6641",
   "metadata": {
    "scrolled": false
   },
   "outputs": [],
   "source": [
    "print(deburesults.stderr)"
   ]
  },
  {
   "cell_type": "code",
   "execution_count": null,
   "id": "2fbff041",
   "metadata": {},
   "outputs": [],
   "source": [
    "! .\\05debug.txt"
   ]
  },
  {
   "cell_type": "markdown",
   "id": "1f368efd",
   "metadata": {},
   "source": [
    "<h2>Another one, this time with input parameters:</h2>"
   ]
  },
  {
   "cell_type": "markdown",
   "id": "9eb08ed9",
   "metadata": {},
   "source": [
    "<h2>***** Before running the list-objects-v2 demo change the bucket name (also in 04cliinput.txt) to your own bucket name *****</h2>"
   ]
  },
  {
   "cell_type": "code",
   "execution_count": null,
   "id": "73d0c953",
   "metadata": {},
   "outputs": [],
   "source": [
    "! aws s3api list-objects-v2 --bucket mybucket12345688888 --debug"
   ]
  }
 ],
 "metadata": {
  "kernelspec": {
   "display_name": "Python 3",
   "language": "python",
   "name": "python3"
  },
  "language_info": {
   "codemirror_mode": {
    "name": "ipython",
    "version": 3
   },
   "file_extension": ".py",
   "mimetype": "text/x-python",
   "name": "python",
   "nbconvert_exporter": "python",
   "pygments_lexer": "ipython3",
   "version": "3.9.6"
  }
 },
 "nbformat": 4,
 "nbformat_minor": 5
}
